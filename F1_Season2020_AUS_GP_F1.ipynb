{
  "nbformat": 4,
  "nbformat_minor": 0,
  "metadata": {
    "colab": {
      "provenance": []
    },
    "kernelspec": {
      "name": "python3",
      "display_name": "Python 3"
    },
    "language_info": {
      "name": "python"
    }
  },
  "cells": [
    {
      "cell_type": "markdown",
      "source": [
        "# Creating a DataSet\n",
        "Notes:\n",
        "- Beautiful Soup no working\n",
        "- Let's try with pandas url"
      ],
      "metadata": {
        "id": "LjJs4J-FNvLQ"
      }
    },
    {
      "cell_type": "markdown",
      "source": [
        "# Import Libraries"
      ],
      "metadata": {
        "id": "wU8A7T9QOIUS"
      }
    },
    {
      "cell_type": "code",
      "execution_count": null,
      "metadata": {
        "id": "vMdgp6oTNo9M"
      },
      "outputs": [],
      "source": [
        "import numpy as np\n",
        "import pandas as pd\n",
        "from io import StringIO\n",
        "import requests"
      ]
    },
    {
      "cell_type": "markdown",
      "source": [
        "# First Steps\n",
        "Extract the data"
      ],
      "metadata": {
        "id": "pcxkziKjOHyH"
      }
    },
    {
      "cell_type": "code",
      "source": [
        "# FP1 aus Gp\n",
        "url = \"https://es.motorsport.com/f1/results/2020/gp-de-austria-451900/?st=FP1\"\n",
        "tables = pd.read_html(url)\n",
        "\n",
        "df = tables[0]  # Selecciona la primera tabla\n",
        "df.to_csv(\"fp1_resultados_2020_aus.csv\", index=False)"
      ],
      "metadata": {
        "id": "nfDwQQs_OFmK"
      },
      "execution_count": null,
      "outputs": []
    },
    {
      "cell_type": "code",
      "source": [
        "# FP2 aus Gp\n",
        "url = \"https://es.motorsport.com/f1/results/2020/gp-de-austria-451900/?st=FP2\"\n",
        "tables = pd.read_html(url)\n",
        "\n",
        "df = tables[0]  # Selecciona la primera tabla\n",
        "df.to_csv(\"fp2_resultaods_2020_aus.csv\", index=False)"
      ],
      "metadata": {
        "id": "F490NVvXQ7kt"
      },
      "execution_count": null,
      "outputs": []
    },
    {
      "cell_type": "code",
      "source": [
        "# FP3 aus Gp\n",
        "url = \"https://es.motorsport.com/f1/results/2020/gp-de-austria-451900/?st=FP3\"\n",
        "tables = pd.read_html(url)\n",
        "\n",
        "df = tables[0]  # Selecciona la primera tabla\n",
        "df.to_csv(\"fp3_resultaods_2020_aus.csv\", index=False)"
      ],
      "metadata": {
        "id": "0m_ojiVGRML-"
      },
      "execution_count": null,
      "outputs": []
    },
    {
      "cell_type": "code",
      "source": [
        "# Grid aus gp\n",
        "url = \"https://es.motorsport.com/f1/results/2020/gp-de-austria-451900/?st=GRID\"\n",
        "tables = pd.read_html(url)\n",
        "\n",
        "df = tables[0]  # Selecciona la primera tabla\n",
        "df.to_csv(\"Grid_resultaods_2020_aus.csv\", index=False)"
      ],
      "metadata": {
        "id": "3mhfZSWGR_eL"
      },
      "execution_count": null,
      "outputs": []
    },
    {
      "cell_type": "code",
      "source": [
        "# Race aus gp\n",
        "url = \"https://es.motorsport.com/f1/results/2020/gp-de-austria-451900/?st=RACE\"\n",
        "tables = pd.read_html(url)\n",
        "\n",
        "df = tables[0]  # Selecciona la primera tabla\n",
        "df.to_csv(\"Race_resultaods_2020_aus.csv\", index=False)"
      ],
      "metadata": {
        "id": "Rj0fe5rhSQ0G"
      },
      "execution_count": null,
      "outputs": []
    },
    {
      "cell_type": "code",
      "source": [
        "# Leer sin encabezado\n",
        "df = pd.read_csv('/content/fp1_resultados_2020_aus.csv', header=None)\n",
        "\n",
        "# Asignar la fila 1 como nombres de columna\n",
        "df_clean_fp1aus = df_raw.copy()\n",
        "df_clean_fp1aus.columns = df_clean_fp1aus.iloc[1]  # Fila 1 como encabezado\n",
        "\n",
        "# Eliminar las filas 0 y 1 (encabezado y basura previa)\n",
        "df_clean_fp1aus = df_clean_fp1aus.iloc[2:]\n",
        "\n",
        "# Reiniciar el índice\n",
        "df_clean_fp1aus.reset_index(drop=True, inplace=True)\n",
        "\n",
        "# Mostrar el resultado\n",
        "print(df_clean_fp1aus.head())"
      ],
      "metadata": {
        "colab": {
          "base_uri": "https://localhost:8080/"
        },
        "id": "hfDtVa2MSaPS",
        "outputId": "4c5b0a0c-d93b-4645-a617-1766754eda85"
      },
      "execution_count": null,
      "outputs": [
        {
          "output_type": "stream",
          "name": "stdout",
          "text": [
            "1 Cla                         Piloto   # Unnamed: 3_level_1        Chasis  \\\n",
            "0   1          L. Hamilton  Mercedes  44                NaN      Mercedes   \n",
            "1   2            V. Bottas  Mercedes  77                NaN      Mercedes   \n",
            "2   3        S. PÃ©rez  Racing Point  11                NaN  Racing Point   \n",
            "3   4             S. Vettel  Ferrari   5                NaN       Ferrari   \n",
            "4   5  D. Ricciardo  Renault F1 Team   3                NaN       Renault   \n",
            "\n",
            "1     Motor Vueltas           Tiempo Intervalo NeumÃ¡ticos  ...  \\\n",
            "0  Mercedes      42         1'04.304       NaN         NaN  ...   \n",
            "1  Mercedes      37  +0.197 1'04.501     0.197         NaN  ...   \n",
            "2  Mercedes      48  +0.641 1'04.945     0.444         NaN  ...   \n",
            "3   Ferrari      48  +0.657 1'04.961     0.016         NaN  ...   \n",
            "4   Renault      36  +0.668 1'04.972     0.011         NaN  ...   \n",
            "\n",
            "1 Unnamed: 90_level_1 Unnamed: 91_level_1 Unnamed: 92_level_1  \\\n",
            "0                 NaN                 NaN                 NaN   \n",
            "1                 NaN                 NaN                 NaN   \n",
            "2                 NaN                 NaN                 NaN   \n",
            "3                 NaN                 NaN                 NaN   \n",
            "4                 NaN                 NaN                 NaN   \n",
            "\n",
            "1 Unnamed: 93_level_1 Unnamed: 94_level_1 Unnamed: 95_level_1  \\\n",
            "0                 NaN                 NaN                 NaN   \n",
            "1                 NaN                 NaN                 NaN   \n",
            "2                 NaN                 NaN                 NaN   \n",
            "3                 NaN                 NaN                 NaN   \n",
            "4                 NaN                 NaN                 NaN   \n",
            "\n",
            "1 Unnamed: 96_level_1 Unnamed: 97_level_1 Unnamed: 98_level_1  \\\n",
            "0                 NaN                 NaN                 NaN   \n",
            "1                 NaN                 NaN                 NaN   \n",
            "2                 NaN                 NaN                 NaN   \n",
            "3                 NaN                 NaN                 NaN   \n",
            "4                 NaN                 NaN                 NaN   \n",
            "\n",
            "1 Unnamed: 99_level_1  \n",
            "0                 NaN  \n",
            "1                 NaN  \n",
            "2                 NaN  \n",
            "3                 NaN  \n",
            "4                 NaN  \n",
            "\n",
            "[5 rows x 100 columns]\n"
          ]
        }
      ]
    },
    {
      "cell_type": "markdown",
      "source": [
        "# Selected columns"
      ],
      "metadata": {
        "id": "qbkeNmZbivU6"
      }
    },
    {
      "cell_type": "code",
      "source": [
        "# Seleccionar las columnas de interés\n",
        "selected_columns_df_clean_fp1aus = df_clean_fp1aus[['Cla', 'Piloto', '#', 'Chasis','Motor','Vueltas','Tiempo' , 'Intervalo']]\n",
        "print(selected_columns_df_clean_fp1aus.head())"
      ],
      "metadata": {
        "colab": {
          "base_uri": "https://localhost:8080/"
        },
        "id": "QIVMFT8wZOxz",
        "outputId": "1d10a4e5-cd44-433d-d4ce-746a3899f0a1"
      },
      "execution_count": null,
      "outputs": [
        {
          "output_type": "stream",
          "name": "stdout",
          "text": [
            "1 Cla                         Piloto   #        Chasis     Motor Vueltas  \\\n",
            "0   1          L. Hamilton  Mercedes  44      Mercedes  Mercedes      42   \n",
            "1   2            V. Bottas  Mercedes  77      Mercedes  Mercedes      37   \n",
            "2   3        S. PÃ©rez  Racing Point  11  Racing Point  Mercedes      48   \n",
            "3   4             S. Vettel  Ferrari   5       Ferrari   Ferrari      48   \n",
            "4   5  D. Ricciardo  Renault F1 Team   3       Renault   Renault      36   \n",
            "\n",
            "1           Tiempo Intervalo  \n",
            "0         1'04.304       NaN  \n",
            "1  +0.197 1'04.501     0.197  \n",
            "2  +0.641 1'04.945     0.444  \n",
            "3  +0.657 1'04.961     0.016  \n",
            "4  +0.668 1'04.972     0.011  \n"
          ]
        }
      ]
    },
    {
      "cell_type": "markdown",
      "source": [
        "# Rename the columns\n",
        "for preparing the merge method"
      ],
      "metadata": {
        "id": "yykakSoEiy1M"
      }
    },
    {
      "cell_type": "code",
      "source": [
        "selected_columns_df_clean_fp1aus = df_clean_fp1aus[['Cla', 'Piloto', '#', 'Chasis','Motor','Vueltas','Tiempo' , 'Intervalo']].copy()\n",
        "\n",
        "excluir = [\"Piloto\", \"#\", \"Chasis\", \"Motor\"]\n",
        "\n",
        "selected_columns_df_clean_fp1aus.rename(\n",
        "    columns={col: f\"{col}_fp1\" for col in selected_columns_df_clean_fp1aus.columns if col not in excluir},\n",
        "    inplace=True\n",
        ")"
      ],
      "metadata": {
        "id": "bLqot5oSaIkb"
      },
      "execution_count": null,
      "outputs": []
    },
    {
      "cell_type": "code",
      "source": [
        "print(selected_columns_df_clean_fp1aus.head())"
      ],
      "metadata": {
        "colab": {
          "base_uri": "https://localhost:8080/"
        },
        "id": "14HdwlZtaS2r",
        "outputId": "896c87e8-7f67-4b54-a5fc-347a3c9fdb28"
      },
      "execution_count": null,
      "outputs": [
        {
          "output_type": "stream",
          "name": "stdout",
          "text": [
            "1 Cla_fp1                         Piloto   #        Chasis     Motor  \\\n",
            "0       1          L. Hamilton  Mercedes  44      Mercedes  Mercedes   \n",
            "1       2            V. Bottas  Mercedes  77      Mercedes  Mercedes   \n",
            "2       3        S. PÃ©rez  Racing Point  11  Racing Point  Mercedes   \n",
            "3       4             S. Vettel  Ferrari   5       Ferrari   Ferrari   \n",
            "4       5  D. Ricciardo  Renault F1 Team   3       Renault   Renault   \n",
            "\n",
            "1 Vueltas_fp1       Tiempo_fp1 Intervalo_fp1  \n",
            "0          42         1'04.304           NaN  \n",
            "1          37  +0.197 1'04.501         0.197  \n",
            "2          48  +0.641 1'04.945         0.444  \n",
            "3          48  +0.657 1'04.961         0.016  \n",
            "4          36  +0.668 1'04.972         0.011  \n"
          ]
        }
      ]
    },
    {
      "cell_type": "code",
      "source": [
        "# Leer sin encabezado\n",
        "df_fp2_ausGP = pd.read_csv('/content/fp2_resultaods_2020_aus.csv', header=None)\n",
        "\n",
        "# Asignar la fila 1 como nombres de columna\n",
        "df_clean_fp2aus = df_fp2_ausGP.copy()\n",
        "df_clean_fp2aus.columns = df_clean_fp2aus.iloc[1]  # Fila 1 como encabezado\n",
        "\n",
        "# Eliminar las filas 0 y 1 (encabezado y basura previa)\n",
        "df_clean_fp2aus = df_clean_fp2aus.iloc[2:]\n",
        "\n",
        "# Reiniciar el índice\n",
        "df_clean_fp2aus.reset_index(drop=True, inplace=True)\n",
        "\n",
        "# Mostrar el resultado\n",
        "print(df_clean_fp2aus.head())"
      ],
      "metadata": {
        "colab": {
          "base_uri": "https://localhost:8080/"
        },
        "id": "trO1e4gIS9g5",
        "outputId": "f3936ae4-9a18-416f-f48c-9a98d03be105"
      },
      "execution_count": null,
      "outputs": [
        {
          "output_type": "stream",
          "name": "stdout",
          "text": [
            "1 Cla                         Piloto   # Unnamed: 3_level_1        Chasis  \\\n",
            "0   1          L. Hamilton  Mercedes  44                NaN      Mercedes   \n",
            "1   2            V. Bottas  Mercedes  77                NaN      Mercedes   \n",
            "2   3        S. PÃ©rez  Racing Point  11                NaN  Racing Point   \n",
            "3   4             S. Vettel  Ferrari   5                NaN       Ferrari   \n",
            "4   5  D. Ricciardo  Renault F1 Team   3                NaN       Renault   \n",
            "\n",
            "1     Motor Vueltas           Tiempo Intervalo NeumÃ¡ticos  ...  \\\n",
            "0  Mercedes      42         1'04.304       NaN         NaN  ...   \n",
            "1  Mercedes      37  +0.197 1'04.501     0.197         NaN  ...   \n",
            "2  Mercedes      48  +0.641 1'04.945     0.444         NaN  ...   \n",
            "3   Ferrari      48  +0.657 1'04.961     0.016         NaN  ...   \n",
            "4   Renault      36  +0.668 1'04.972     0.011         NaN  ...   \n",
            "\n",
            "1 Unnamed: 90_level_1 Unnamed: 91_level_1 Unnamed: 92_level_1  \\\n",
            "0                 NaN                 NaN                 NaN   \n",
            "1                 NaN                 NaN                 NaN   \n",
            "2                 NaN                 NaN                 NaN   \n",
            "3                 NaN                 NaN                 NaN   \n",
            "4                 NaN                 NaN                 NaN   \n",
            "\n",
            "1 Unnamed: 93_level_1 Unnamed: 94_level_1 Unnamed: 95_level_1  \\\n",
            "0                 NaN                 NaN                 NaN   \n",
            "1                 NaN                 NaN                 NaN   \n",
            "2                 NaN                 NaN                 NaN   \n",
            "3                 NaN                 NaN                 NaN   \n",
            "4                 NaN                 NaN                 NaN   \n",
            "\n",
            "1 Unnamed: 96_level_1 Unnamed: 97_level_1 Unnamed: 98_level_1  \\\n",
            "0                 NaN                 NaN                 NaN   \n",
            "1                 NaN                 NaN                 NaN   \n",
            "2                 NaN                 NaN                 NaN   \n",
            "3                 NaN                 NaN                 NaN   \n",
            "4                 NaN                 NaN                 NaN   \n",
            "\n",
            "1 Unnamed: 99_level_1  \n",
            "0                 NaN  \n",
            "1                 NaN  \n",
            "2                 NaN  \n",
            "3                 NaN  \n",
            "4                 NaN  \n",
            "\n",
            "[5 rows x 100 columns]\n"
          ]
        }
      ]
    },
    {
      "cell_type": "code",
      "source": [
        "# Seleccionar las columnas de interés\n",
        "selected_columns_df_clean_fp2aus = df_clean_fp2aus[['Cla', 'Piloto', '#', 'Chasis','Motor','Vueltas','Tiempo' , 'Intervalo']]\n",
        "print(selected_columns_df_clean_fp2aus.head())"
      ],
      "metadata": {
        "colab": {
          "base_uri": "https://localhost:8080/"
        },
        "id": "pk4jUB6zdYn5",
        "outputId": "21f3d468-68e3-430d-9a8b-a81f780d557e"
      },
      "execution_count": null,
      "outputs": [
        {
          "output_type": "stream",
          "name": "stdout",
          "text": [
            "1 Cla                         Piloto   #        Chasis     Motor Vueltas  \\\n",
            "0   1          L. Hamilton  Mercedes  44      Mercedes  Mercedes      42   \n",
            "1   2            V. Bottas  Mercedes  77      Mercedes  Mercedes      37   \n",
            "2   3        S. PÃ©rez  Racing Point  11  Racing Point  Mercedes      48   \n",
            "3   4             S. Vettel  Ferrari   5       Ferrari   Ferrari      48   \n",
            "4   5  D. Ricciardo  Renault F1 Team   3       Renault   Renault      36   \n",
            "\n",
            "1           Tiempo Intervalo  \n",
            "0         1'04.304       NaN  \n",
            "1  +0.197 1'04.501     0.197  \n",
            "2  +0.641 1'04.945     0.444  \n",
            "3  +0.657 1'04.961     0.016  \n",
            "4  +0.668 1'04.972     0.011  \n"
          ]
        }
      ]
    },
    {
      "cell_type": "code",
      "source": [
        "selected_columns_df_clean_fp2aus = df_clean_fp2aus[['Cla', 'Piloto', '#', 'Chasis','Motor','Vueltas','Tiempo' , 'Intervalo']].copy()\n",
        "\n",
        "excluir = [\"Piloto\", \"#\", \"Chasis\", \"Motor\"]\n",
        "\n",
        "selected_columns_df_clean_fp2aus.rename(\n",
        "    columns={col: f\"{col}_fp2\" for col in selected_columns_df_clean_fp2aus.columns if col not in excluir},\n",
        "    inplace=True\n",
        ")"
      ],
      "metadata": {
        "id": "F8U0bQlEc_er"
      },
      "execution_count": null,
      "outputs": []
    },
    {
      "cell_type": "code",
      "source": [
        "print(selected_columns_df_clean_fp2aus.head())"
      ],
      "metadata": {
        "colab": {
          "base_uri": "https://localhost:8080/"
        },
        "id": "wMxSBZaKbcwv",
        "outputId": "1594bd0c-ec3c-4b81-d7eb-8dc574b7f3f0"
      },
      "execution_count": null,
      "outputs": [
        {
          "output_type": "stream",
          "name": "stdout",
          "text": [
            "1 Cla_fp2                         Piloto   #        Chasis     Motor  \\\n",
            "0       1          L. Hamilton  Mercedes  44      Mercedes  Mercedes   \n",
            "1       2            V. Bottas  Mercedes  77      Mercedes  Mercedes   \n",
            "2       3        S. PÃ©rez  Racing Point  11  Racing Point  Mercedes   \n",
            "3       4             S. Vettel  Ferrari   5       Ferrari   Ferrari   \n",
            "4       5  D. Ricciardo  Renault F1 Team   3       Renault   Renault   \n",
            "\n",
            "1 Vueltas_fp2       Tiempo_fp2 Intervalo_fp2  \n",
            "0          42         1'04.304           NaN  \n",
            "1          37  +0.197 1'04.501         0.197  \n",
            "2          48  +0.641 1'04.945         0.444  \n",
            "3          48  +0.657 1'04.961         0.016  \n",
            "4          36  +0.668 1'04.972         0.011  \n"
          ]
        }
      ]
    },
    {
      "cell_type": "code",
      "source": [
        "# Leer sin encabezado\n",
        "df_fp3_ausGP = pd.read_csv('/content/fp3_resultaods_2020_aus.csv', header=None)\n",
        "\n",
        "# Asignar la fila 1 como nombres de columna\n",
        "df_clean_fp3aus = df_fp3_ausGP.copy()\n",
        "df_clean_fp3aus.columns = df_clean_fp3aus.iloc[1]  # Fila 1 como encabezado\n",
        "\n",
        "# Eliminar las filas 0 y 1 (encabezado y basura previa)\n",
        "df_clean_fp3aus = df_clean_fp3aus.iloc[2:]\n",
        "\n",
        "# Reiniciar el índice\n",
        "df_clean_fp3aus.reset_index(drop=True, inplace=True)\n",
        "\n",
        "# Mostrar el resultado\n",
        "print(df_clean_fp3aus.head())"
      ],
      "metadata": {
        "colab": {
          "base_uri": "https://localhost:8080/"
        },
        "id": "si1D2NNyUOwy",
        "outputId": "59ccbe9f-775a-45f8-93ae-c34c068c4abc"
      },
      "execution_count": null,
      "outputs": [
        {
          "output_type": "stream",
          "name": "stdout",
          "text": [
            "1 Cla                          Piloto   # Unnamed: 3_level_1        Chasis  \\\n",
            "0   1           L. Hamilton  Mercedes  44                NaN      Mercedes   \n",
            "1   2             V. Bottas  Mercedes  77                NaN      Mercedes   \n",
            "2   3  M. Verstappen  Red Bull Racing  33                NaN      Red Bull   \n",
            "3   4         S. PÃ©rez  Racing Point  11                NaN  Racing Point   \n",
            "4   5             C. Leclerc  Ferrari  16                NaN       Ferrari   \n",
            "\n",
            "1     Motor Vueltas           Tiempo Intervalo NeumÃ¡ticos  ...  \\\n",
            "0  Mercedes      21         1'04.130       NaN         NaN  ...   \n",
            "1  Mercedes      22  +0.147 1'04.277     0.147         NaN  ...   \n",
            "2     Honda      20  +0.283 1'04.413     0.136         NaN  ...   \n",
            "3  Mercedes      19  +0.475 1'04.605     0.192         NaN  ...   \n",
            "4   Ferrari      19  +0.573 1'04.703     0.098         NaN  ...   \n",
            "\n",
            "1 Unnamed: 90_level_1 Unnamed: 91_level_1 Unnamed: 92_level_1  \\\n",
            "0                 NaN                 NaN                 NaN   \n",
            "1                 NaN                 NaN                 NaN   \n",
            "2                 NaN                 NaN                 NaN   \n",
            "3                 NaN                 NaN                 NaN   \n",
            "4                 NaN                 NaN                 NaN   \n",
            "\n",
            "1 Unnamed: 93_level_1 Unnamed: 94_level_1 Unnamed: 95_level_1  \\\n",
            "0                 NaN                 NaN                 NaN   \n",
            "1                 NaN                 NaN                 NaN   \n",
            "2                 NaN                 NaN                 NaN   \n",
            "3                 NaN                 NaN                 NaN   \n",
            "4                 NaN                 NaN                 NaN   \n",
            "\n",
            "1 Unnamed: 96_level_1 Unnamed: 97_level_1 Unnamed: 98_level_1  \\\n",
            "0                 NaN                 NaN                 NaN   \n",
            "1                 NaN                 NaN                 NaN   \n",
            "2                 NaN                 NaN                 NaN   \n",
            "3                 NaN                 NaN                 NaN   \n",
            "4                 NaN                 NaN                 NaN   \n",
            "\n",
            "1 Unnamed: 99_level_1  \n",
            "0                 NaN  \n",
            "1                 NaN  \n",
            "2                 NaN  \n",
            "3                 NaN  \n",
            "4                 NaN  \n",
            "\n",
            "[5 rows x 100 columns]\n"
          ]
        }
      ]
    },
    {
      "cell_type": "code",
      "source": [
        "print(df_clean_fp3aus.columns.tolist())"
      ],
      "metadata": {
        "colab": {
          "base_uri": "https://localhost:8080/"
        },
        "id": "lORWdz-xeYgz",
        "outputId": "2ddc818b-251d-4678-d049-58018a7c7f91"
      },
      "execution_count": null,
      "outputs": [
        {
          "output_type": "stream",
          "name": "stdout",
          "text": [
            "['Cla_FP3', 'Piloto', '#_FP3', 'Unnamed: 3_level_1_FP3', 'Chasis_FP3', 'Motor_FP3', 'Vueltas_FP3', 'Tiempo_FP3', 'Intervalo_FP3', 'NeumÃ¡ticos_FP3', 'Km/h_FP3', 'Unnamed: 11_level_1_FP3', 'Unnamed: 12_level_1_FP3', 'Unnamed: 13_level_1_FP3', 'Unnamed: 14_level_1_FP3', 'Unnamed: 15_level_1_FP3', 'Unnamed: 16_level_1_FP3', 'Unnamed: 17_level_1_FP3', 'Unnamed: 18_level_1_FP3', 'Unnamed: 19_level_1_FP3', 'Unnamed: 20_level_1_FP3', 'Unnamed: 21_level_1_FP3', 'Unnamed: 22_level_1_FP3', 'Unnamed: 23_level_1_FP3', 'Unnamed: 24_level_1_FP3', 'Unnamed: 25_level_1_FP3', 'Unnamed: 26_level_1_FP3', 'Unnamed: 27_level_1_FP3', 'Unnamed: 28_level_1_FP3', 'Unnamed: 29_level_1_FP3', 'Unnamed: 30_level_1_FP3', 'Unnamed: 31_level_1_FP3', 'Unnamed: 32_level_1_FP3', 'Unnamed: 33_level_1_FP3', 'Unnamed: 34_level_1_FP3', 'Unnamed: 35_level_1_FP3', 'Unnamed: 36_level_1_FP3', 'Unnamed: 37_level_1_FP3', 'Unnamed: 38_level_1_FP3', 'Unnamed: 39_level_1_FP3', 'Unnamed: 40_level_1_FP3', 'Unnamed: 41_level_1_FP3', 'Unnamed: 42_level_1_FP3', 'Unnamed: 43_level_1_FP3', 'Unnamed: 44_level_1_FP3', 'Unnamed: 45_level_1_FP3', 'Unnamed: 46_level_1_FP3', 'Unnamed: 47_level_1_FP3', 'Unnamed: 48_level_1_FP3', 'Unnamed: 49_level_1_FP3', 'Unnamed: 50_level_1_FP3', 'Unnamed: 51_level_1_FP3', 'Unnamed: 52_level_1_FP3', 'Unnamed: 53_level_1_FP3', 'Unnamed: 54_level_1_FP3', 'Unnamed: 55_level_1_FP3', 'Unnamed: 56_level_1_FP3', 'Unnamed: 57_level_1_FP3', 'Unnamed: 58_level_1_FP3', 'Unnamed: 59_level_1_FP3', 'Unnamed: 60_level_1_FP3', 'Unnamed: 61_level_1_FP3', 'Unnamed: 62_level_1_FP3', 'Unnamed: 63_level_1_FP3', 'Unnamed: 64_level_1_FP3', 'Unnamed: 65_level_1_FP3', 'Unnamed: 66_level_1_FP3', 'Unnamed: 67_level_1_FP3', 'Unnamed: 68_level_1_FP3', 'Unnamed: 69_level_1_FP3', 'Unnamed: 70_level_1_FP3', 'Unnamed: 71_level_1_FP3', 'Unnamed: 72_level_1_FP3', 'Unnamed: 73_level_1_FP3', 'Unnamed: 74_level_1_FP3', 'Unnamed: 75_level_1_FP3', 'Unnamed: 76_level_1_FP3', 'Unnamed: 77_level_1_FP3', 'Unnamed: 78_level_1_FP3', 'Unnamed: 79_level_1_FP3', 'Unnamed: 80_level_1_FP3', 'Unnamed: 81_level_1_FP3', 'Unnamed: 82_level_1_FP3', 'Unnamed: 83_level_1_FP3', 'Unnamed: 84_level_1_FP3', 'Unnamed: 85_level_1_FP3', 'Unnamed: 86_level_1_FP3', 'Unnamed: 87_level_1_FP3', 'Unnamed: 88_level_1_FP3', 'Unnamed: 89_level_1_FP3', 'Unnamed: 90_level_1_FP3', 'Unnamed: 91_level_1_FP3', 'Unnamed: 92_level_1_FP3', 'Unnamed: 93_level_1_FP3', 'Unnamed: 94_level_1_FP3', 'Unnamed: 95_level_1_FP3', 'Unnamed: 96_level_1_FP3', 'Unnamed: 97_level_1_FP3', 'Unnamed: 98_level_1_FP3', 'Unnamed: 99_level_1_FP3']\n"
          ]
        }
      ]
    },
    {
      "cell_type": "code",
      "source": [
        "# Seleccionar las columnas de interés\n",
        "selected_columns_df_clean_fp3aus = df_clean_fp3aus[['Cla_FP3', 'Piloto', 'Vueltas_FP3', 'Tiempo_FP3' , 'Intervalo_FP3', 'Km/h_FP3']]\n",
        "print(selected_columns_df_clean_fp3aus.head())"
      ],
      "metadata": {
        "colab": {
          "base_uri": "https://localhost:8080/"
        },
        "id": "ZKgPWrcLee6M",
        "outputId": "d784dd9c-1e9b-4330-fbd5-9c0ad9fafa9d"
      },
      "execution_count": null,
      "outputs": [
        {
          "output_type": "stream",
          "name": "stdout",
          "text": [
            "1                          Piloto Vueltas_FP3       Tiempo_FP3 Intervalo_FP3  \\\n",
            "0           L. Hamilton  Mercedes          21         1'04.130           NaN   \n",
            "1             V. Bottas  Mercedes          22  +0.147 1'04.277         0.147   \n",
            "2  M. Verstappen  Red Bull Racing          20  +0.283 1'04.413         0.136   \n",
            "3         S. PÃ©rez  Racing Point          19  +0.475 1'04.605         0.192   \n",
            "4             C. Leclerc  Ferrari          19  +0.573 1'04.703         0.098   \n",
            "\n",
            "1 Km/h_FP3  \n",
            "0  242.395  \n",
            "1   241.84  \n",
            "2   241.33  \n",
            "3  240.612  \n",
            "4  240.248  \n"
          ]
        }
      ]
    },
    {
      "cell_type": "code",
      "source": [
        "# Leer sin encabezado\n",
        "df_Grid_ausGP = pd.read_csv('/content/Grid_resultaods_2020_aus.csv', header=None)\n",
        "\n",
        "# Asignar la fila 1 como nombres de columna\n",
        "df_clean_Gridaus = df_Grid_ausGP.copy()\n",
        "df_clean_Gridaus.columns = df_clean_Gridaus.iloc[1]  # Fila 1 como encabezado\n",
        "\n",
        "# Eliminar las filas 0 y 1 (encabezado y basura previa)\n",
        "df_clean_Gridaus = df_clean_Gridaus.iloc[2:]\n",
        "\n",
        "# Reiniciar el índice\n",
        "df_clean_Gridaus.reset_index(drop=True, inplace=True)\n",
        "\n",
        "# Mostrar el resultado\n",
        "print(df_clean_Gridaus.head())"
      ],
      "metadata": {
        "colab": {
          "base_uri": "https://localhost:8080/"
        },
        "id": "a0ZuTHBBVUc-",
        "outputId": "b977598c-afa2-4407-b73f-625c823ea8fe"
      },
      "execution_count": null,
      "outputs": [
        {
          "output_type": "stream",
          "name": "stdout",
          "text": [
            "1 Cla                          Piloto   # Unnamed: 3_level_1    Chasis  \\\n",
            "0   1             V. Bottas  Mercedes  77                NaN  Mercedes   \n",
            "1   2  M. Verstappen  Red Bull Racing  33                NaN  Red Bull   \n",
            "2   3           L. Norris  McLaren F1   4                NaN   McLaren   \n",
            "3   4       A. Albon  Red Bull Racing  23                NaN  Red Bull   \n",
            "4   5           L. Hamilton  Mercedes  44                NaN  Mercedes   \n",
            "\n",
            "1     Motor           Tiempo NeumÃ¡ticos     Km/h Unnamed: 9_level_1  ...  \\\n",
            "0  Mercedes         1'02.939         NaN  246.981                NaN  ...   \n",
            "1     Honda  +0.538 1'03.477         NaN  244.888                NaN  ...   \n",
            "2   Renault  +0.687 1'03.626         NaN  244.315                NaN  ...   \n",
            "3     Honda  +0.929 1'03.868         NaN  243.389                NaN  ...   \n",
            "4  Mercedes  +0.012 1'02.951         NaN  246.934                NaN  ...   \n",
            "\n",
            "1 Unnamed: 90_level_1 Unnamed: 91_level_1 Unnamed: 92_level_1  \\\n",
            "0                 NaN                 NaN                 NaN   \n",
            "1                 NaN                 NaN                 NaN   \n",
            "2                 NaN                 NaN                 NaN   \n",
            "3                 NaN                 NaN                 NaN   \n",
            "4                 NaN                 NaN                 NaN   \n",
            "\n",
            "1 Unnamed: 93_level_1 Unnamed: 94_level_1 Unnamed: 95_level_1  \\\n",
            "0                 NaN                 NaN                 NaN   \n",
            "1                 NaN                 NaN                 NaN   \n",
            "2                 NaN                 NaN                 NaN   \n",
            "3                 NaN                 NaN                 NaN   \n",
            "4                 NaN                 NaN                 NaN   \n",
            "\n",
            "1 Unnamed: 96_level_1 Unnamed: 97_level_1 Unnamed: 98_level_1  \\\n",
            "0                 NaN                 NaN                 NaN   \n",
            "1                 NaN                 NaN                 NaN   \n",
            "2                 NaN                 NaN                 NaN   \n",
            "3                 NaN                 NaN                 NaN   \n",
            "4                 NaN                 NaN                 NaN   \n",
            "\n",
            "1 Unnamed: 99_level_1  \n",
            "0                 NaN  \n",
            "1                 NaN  \n",
            "2                 NaN  \n",
            "3                 NaN  \n",
            "4                 NaN  \n",
            "\n",
            "[5 rows x 100 columns]\n"
          ]
        }
      ]
    },
    {
      "cell_type": "code",
      "source": [
        "print(df_clean_Gridaus.columns.tolist())"
      ],
      "metadata": {
        "colab": {
          "base_uri": "https://localhost:8080/"
        },
        "id": "SG_SoiWSfQvI",
        "outputId": "8ae29ea5-46cc-492b-bcb9-9353626b3cb7"
      },
      "execution_count": null,
      "outputs": [
        {
          "output_type": "stream",
          "name": "stdout",
          "text": [
            "['Cla_Grid', 'Piloto', '#_Grid', 'Unnamed: 3_level_1_Grid', 'Chasis_Grid', 'Motor_Grid', 'Tiempo_Grid', 'NeumÃ¡ticos_Grid', 'Km/h_Grid', 'Unnamed: 9_level_1_Grid', 'Unnamed: 10_level_1_Grid', 'Unnamed: 11_level_1_Grid', 'Unnamed: 12_level_1_Grid', 'Unnamed: 13_level_1_Grid', 'Unnamed: 14_level_1_Grid', 'Unnamed: 15_level_1_Grid', 'Unnamed: 16_level_1_Grid', 'Unnamed: 17_level_1_Grid', 'Unnamed: 18_level_1_Grid', 'Unnamed: 19_level_1_Grid', 'Unnamed: 20_level_1_Grid', 'Unnamed: 21_level_1_Grid', 'Unnamed: 22_level_1_Grid', 'Unnamed: 23_level_1_Grid', 'Unnamed: 24_level_1_Grid', 'Unnamed: 25_level_1_Grid', 'Unnamed: 26_level_1_Grid', 'Unnamed: 27_level_1_Grid', 'Unnamed: 28_level_1_Grid', 'Unnamed: 29_level_1_Grid', 'Unnamed: 30_level_1_Grid', 'Unnamed: 31_level_1_Grid', 'Unnamed: 32_level_1_Grid', 'Unnamed: 33_level_1_Grid', 'Unnamed: 34_level_1_Grid', 'Unnamed: 35_level_1_Grid', 'Unnamed: 36_level_1_Grid', 'Unnamed: 37_level_1_Grid', 'Unnamed: 38_level_1_Grid', 'Unnamed: 39_level_1_Grid', 'Unnamed: 40_level_1_Grid', 'Unnamed: 41_level_1_Grid', 'Unnamed: 42_level_1_Grid', 'Unnamed: 43_level_1_Grid', 'Unnamed: 44_level_1_Grid', 'Unnamed: 45_level_1_Grid', 'Unnamed: 46_level_1_Grid', 'Unnamed: 47_level_1_Grid', 'Unnamed: 48_level_1_Grid', 'Unnamed: 49_level_1_Grid', 'Unnamed: 50_level_1_Grid', 'Unnamed: 51_level_1_Grid', 'Unnamed: 52_level_1_Grid', 'Unnamed: 53_level_1_Grid', 'Unnamed: 54_level_1_Grid', 'Unnamed: 55_level_1_Grid', 'Unnamed: 56_level_1_Grid', 'Unnamed: 57_level_1_Grid', 'Unnamed: 58_level_1_Grid', 'Unnamed: 59_level_1_Grid', 'Unnamed: 60_level_1_Grid', 'Unnamed: 61_level_1_Grid', 'Unnamed: 62_level_1_Grid', 'Unnamed: 63_level_1_Grid', 'Unnamed: 64_level_1_Grid', 'Unnamed: 65_level_1_Grid', 'Unnamed: 66_level_1_Grid', 'Unnamed: 67_level_1_Grid', 'Unnamed: 68_level_1_Grid', 'Unnamed: 69_level_1_Grid', 'Unnamed: 70_level_1_Grid', 'Unnamed: 71_level_1_Grid', 'Unnamed: 72_level_1_Grid', 'Unnamed: 73_level_1_Grid', 'Unnamed: 74_level_1_Grid', 'Unnamed: 75_level_1_Grid', 'Unnamed: 76_level_1_Grid', 'Unnamed: 77_level_1_Grid', 'Unnamed: 78_level_1_Grid', 'Unnamed: 79_level_1_Grid', 'Unnamed: 80_level_1_Grid', 'Unnamed: 81_level_1_Grid', 'Unnamed: 82_level_1_Grid', 'Unnamed: 83_level_1_Grid', 'Unnamed: 84_level_1_Grid', 'Unnamed: 85_level_1_Grid', 'Unnamed: 86_level_1_Grid', 'Unnamed: 87_level_1_Grid', 'Unnamed: 88_level_1_Grid', 'Unnamed: 89_level_1_Grid', 'Unnamed: 90_level_1_Grid', 'Unnamed: 91_level_1_Grid', 'Unnamed: 92_level_1_Grid', 'Unnamed: 93_level_1_Grid', 'Unnamed: 94_level_1_Grid', 'Unnamed: 95_level_1_Grid', 'Unnamed: 96_level_1_Grid', 'Unnamed: 97_level_1_Grid', 'Unnamed: 98_level_1_Grid', 'Unnamed: 99_level_1_Grid']\n"
          ]
        }
      ]
    },
    {
      "cell_type": "code",
      "source": [
        "# Seleccionar las columnas de interés\n",
        "selected_columns_df_clean_Gridaus = df_clean_Gridaus[['Cla_Grid', 'Piloto', 'Tiempo_Grid' ,'Km/h_Grid']]\n",
        "print(selected_columns_df_clean_Gridaus.head())"
      ],
      "metadata": {
        "colab": {
          "base_uri": "https://localhost:8080/"
        },
        "id": "YpS17lIVfWnC",
        "outputId": "d469f5ed-e6ed-4359-db70-12f32f2022ca"
      },
      "execution_count": null,
      "outputs": [
        {
          "output_type": "stream",
          "name": "stdout",
          "text": [
            "1 Cla_Grid                          Piloto      Tiempo_Grid Km/h_Grid\n",
            "0        1             V. Bottas  Mercedes         1'02.939   246.981\n",
            "1        2  M. Verstappen  Red Bull Racing  +0.538 1'03.477   244.888\n",
            "2        3           L. Norris  McLaren F1  +0.687 1'03.626   244.315\n",
            "3        4       A. Albon  Red Bull Racing  +0.929 1'03.868   243.389\n",
            "4        5           L. Hamilton  Mercedes  +0.012 1'02.951   246.934\n"
          ]
        }
      ]
    },
    {
      "cell_type": "code",
      "source": [
        "# Leer sin encabezado\n",
        "df_Result_ausGP = pd.read_csv('/content/Race_resultaods_2020_aus.csv', header=None)\n",
        "\n",
        "# Asignar la fila 1 como nombres de columna\n",
        "df_clean_Resultaus = df_Result_ausGP.copy()\n",
        "df_clean_Resultaus.columns = df_clean_Resultaus.iloc[1]  # Fila 1 como encabezado\n",
        "\n",
        "# Eliminar las filas 0 y 1 (encabezado y basura previa)\n",
        "df_clean_Resultaus = df_clean_Resultaus.iloc[2:]\n",
        "\n",
        "# Reiniciar el índice\n",
        "df_clean_Resultaus.reset_index(drop=True, inplace=True)\n",
        "\n",
        "# Mostrar el resultado\n",
        "print(df_clean_Resultaus.head())"
      ],
      "metadata": {
        "colab": {
          "base_uri": "https://localhost:8080/"
        },
        "id": "QhiX0DhzWvNR",
        "outputId": "2ca555b1-369b-4a01-f641-07ad3a8ec6a0"
      },
      "execution_count": null,
      "outputs": [
        {
          "output_type": "stream",
          "name": "stdout",
          "text": [
            "1 Cla                 Piloto   # Unnamed: 3_level_1 Vueltas  \\\n",
            "0   1    V. Bottas  Mercedes  77                NaN      71   \n",
            "1   2    C. Leclerc  Ferrari  16                NaN      71   \n",
            "2   3  L. Norris  McLaren F1   4                NaN      71   \n",
            "3   4  L. Hamilton  Mercedes  44                NaN      71   \n",
            "4   5   C. Sainz  McLaren F1  55                NaN      71   \n",
            "\n",
            "1              Tiempo Intervalo     Km/h Boxes Puntos  ...  \\\n",
            "0         1:30'55.739       NaN  202.214   2.0   25.0  ...   \n",
            "1  +2.700 1:30'58.439     2.700  202.114   3.0   18.0  ...   \n",
            "2  +5.491 1:31'01.230     2.791   202.01   3.0   16.0  ...   \n",
            "3  +5.689 1:31'01.428     0.198  202.003   2.0   12.0  ...   \n",
            "4  +8.903 1:31'04.642     3.214  201.884   3.0   10.0  ...   \n",
            "\n",
            "1 Unnamed: 90_level_1 Unnamed: 91_level_1 Unnamed: 92_level_1  \\\n",
            "0                 NaN                 NaN                 NaN   \n",
            "1                 NaN                 NaN                 NaN   \n",
            "2                 NaN                 NaN                 NaN   \n",
            "3                 NaN                 NaN                 NaN   \n",
            "4                 NaN                 NaN                 NaN   \n",
            "\n",
            "1 Unnamed: 93_level_1 Unnamed: 94_level_1 Unnamed: 95_level_1  \\\n",
            "0                 NaN                 NaN                 NaN   \n",
            "1                 NaN                 NaN                 NaN   \n",
            "2                 NaN                 NaN                 NaN   \n",
            "3                 NaN                 NaN                 NaN   \n",
            "4                 NaN                 NaN                 NaN   \n",
            "\n",
            "1 Unnamed: 96_level_1 Unnamed: 97_level_1 Unnamed: 98_level_1  \\\n",
            "0                 NaN                 NaN                 NaN   \n",
            "1                 NaN                 NaN                 NaN   \n",
            "2                 NaN                 NaN                 NaN   \n",
            "3                 NaN                 NaN                 NaN   \n",
            "4                 NaN                 NaN                 NaN   \n",
            "\n",
            "1 Unnamed: 99_level_1  \n",
            "0                 NaN  \n",
            "1                 NaN  \n",
            "2                 NaN  \n",
            "3                 NaN  \n",
            "4                 NaN  \n",
            "\n",
            "[5 rows x 100 columns]\n"
          ]
        }
      ]
    },
    {
      "cell_type": "code",
      "source": [
        "print(df_clean_Resultaus.columns.tolist())"
      ],
      "metadata": {
        "colab": {
          "base_uri": "https://localhost:8080/"
        },
        "id": "vFXzbRuNfNtK",
        "outputId": "955e12ca-0922-471d-971d-ba165980a9d0"
      },
      "execution_count": null,
      "outputs": [
        {
          "output_type": "stream",
          "name": "stdout",
          "text": [
            "['Cla_Race', 'Piloto', '#_Race', 'Unnamed: 3_level_1_Race', 'Vueltas_Race', 'Tiempo_Race', 'Intervalo_Race', 'Km/h_Race', 'Boxes_Race', 'Puntos_Race', 'Abandono_Race', 'Chasis_Race', 'Motor_Race', 'Unnamed: 13_level_1_Race', 'Unnamed: 14_level_1_Race', 'Unnamed: 15_level_1_Race', 'Unnamed: 16_level_1_Race', 'Unnamed: 17_level_1_Race', 'Unnamed: 18_level_1_Race', 'Unnamed: 19_level_1_Race', 'Unnamed: 20_level_1_Race', 'Unnamed: 21_level_1_Race', 'Unnamed: 22_level_1_Race', 'Unnamed: 23_level_1_Race', 'Unnamed: 24_level_1_Race', 'Unnamed: 25_level_1_Race', 'Unnamed: 26_level_1_Race', 'Unnamed: 27_level_1_Race', 'Unnamed: 28_level_1_Race', 'Unnamed: 29_level_1_Race', 'Unnamed: 30_level_1_Race', 'Unnamed: 31_level_1_Race', 'Unnamed: 32_level_1_Race', 'Unnamed: 33_level_1_Race', 'Unnamed: 34_level_1_Race', 'Unnamed: 35_level_1_Race', 'Unnamed: 36_level_1_Race', 'Unnamed: 37_level_1_Race', 'Unnamed: 38_level_1_Race', 'Unnamed: 39_level_1_Race', 'Unnamed: 40_level_1_Race', 'Unnamed: 41_level_1_Race', 'Unnamed: 42_level_1_Race', 'Unnamed: 43_level_1_Race', 'Unnamed: 44_level_1_Race', 'Unnamed: 45_level_1_Race', 'Unnamed: 46_level_1_Race', 'Unnamed: 47_level_1_Race', 'Unnamed: 48_level_1_Race', 'Unnamed: 49_level_1_Race', 'Unnamed: 50_level_1_Race', 'Unnamed: 51_level_1_Race', 'Unnamed: 52_level_1_Race', 'Unnamed: 53_level_1_Race', 'Unnamed: 54_level_1_Race', 'Unnamed: 55_level_1_Race', 'Unnamed: 56_level_1_Race', 'Unnamed: 57_level_1_Race', 'Unnamed: 58_level_1_Race', 'Unnamed: 59_level_1_Race', 'Unnamed: 60_level_1_Race', 'Unnamed: 61_level_1_Race', 'Unnamed: 62_level_1_Race', 'Unnamed: 63_level_1_Race', 'Unnamed: 64_level_1_Race', 'Unnamed: 65_level_1_Race', 'Unnamed: 66_level_1_Race', 'Unnamed: 67_level_1_Race', 'Unnamed: 68_level_1_Race', 'Unnamed: 69_level_1_Race', 'Unnamed: 70_level_1_Race', 'Unnamed: 71_level_1_Race', 'Unnamed: 72_level_1_Race', 'Unnamed: 73_level_1_Race', 'Unnamed: 74_level_1_Race', 'Unnamed: 75_level_1_Race', 'Unnamed: 76_level_1_Race', 'Unnamed: 77_level_1_Race', 'Unnamed: 78_level_1_Race', 'Unnamed: 79_level_1_Race', 'Unnamed: 80_level_1_Race', 'Unnamed: 81_level_1_Race', 'Unnamed: 82_level_1_Race', 'Unnamed: 83_level_1_Race', 'Unnamed: 84_level_1_Race', 'Unnamed: 85_level_1_Race', 'Unnamed: 86_level_1_Race', 'Unnamed: 87_level_1_Race', 'Unnamed: 88_level_1_Race', 'Unnamed: 89_level_1_Race', 'Unnamed: 90_level_1_Race', 'Unnamed: 91_level_1_Race', 'Unnamed: 92_level_1_Race', 'Unnamed: 93_level_1_Race', 'Unnamed: 94_level_1_Race', 'Unnamed: 95_level_1_Race', 'Unnamed: 96_level_1_Race', 'Unnamed: 97_level_1_Race', 'Unnamed: 98_level_1_Race', 'Unnamed: 99_level_1_Race']\n"
          ]
        }
      ]
    },
    {
      "cell_type": "code",
      "source": [
        "# Seleccionar las columnas de interés\n",
        "selected_columns_df_clean_Resultaus = df_clean_Resultaus[[ 'Piloto','Vueltas_Race', 'Tiempo_Race', 'Intervalo_Race' ,'Km/h_Race', 'Boxes_Race', 'Puntos_Race', 'Abandono_Race']]\n",
        "print(selected_columns_df_clean_Resultaus.head())"
      ],
      "metadata": {
        "colab": {
          "base_uri": "https://localhost:8080/"
        },
        "id": "yjFdaCUVftaE",
        "outputId": "3c3140e0-03c5-46a5-ec1e-0ab7a1eaaaaa"
      },
      "execution_count": null,
      "outputs": [
        {
          "output_type": "stream",
          "name": "stdout",
          "text": [
            "1                 Piloto Vueltas_Race         Tiempo_Race Intervalo_Race  \\\n",
            "0    V. Bottas  Mercedes           71         1:30'55.739            NaN   \n",
            "1    C. Leclerc  Ferrari           71  +2.700 1:30'58.439          2.700   \n",
            "2  L. Norris  McLaren F1           71  +5.491 1:31'01.230          2.791   \n",
            "3  L. Hamilton  Mercedes           71  +5.689 1:31'01.428          0.198   \n",
            "4   C. Sainz  McLaren F1           71  +8.903 1:31'04.642          3.214   \n",
            "\n",
            "1 Km/h_Race Boxes_Race Puntos_Race Abandono_Race  \n",
            "0   202.214        2.0        25.0           NaN  \n",
            "1   202.114        3.0        18.0           NaN  \n",
            "2    202.01        3.0        16.0           NaN  \n",
            "3   202.003        2.0        12.0           NaN  \n",
            "4   201.884        3.0        10.0           NaN  \n"
          ]
        }
      ]
    },
    {
      "cell_type": "markdown",
      "source": [
        "# apply merged\n",
        "using merged based to driver, for join the austrian GP sesion in 1 dataset"
      ],
      "metadata": {
        "id": "K-cUYT7Zi-6W"
      }
    },
    {
      "cell_type": "code",
      "source": [
        "# Empezamos con FP1 como base\n",
        "df_merged = selected_columns_df_clean_fp1aus.copy()\n",
        "\n",
        "# Unimos FP2, FP3, Grid y Race uno por uno\n",
        "df_merged = df_merged.merge(selected_columns_df_clean_fp2aus, on=\"Piloto\", how=\"outer\")\n",
        "df_merged = df_merged.merge(selected_columns_df_clean_fp3aus, on=\"Piloto\", how=\"outer\")\n",
        "df_merged = df_merged.merge(selected_columns_df_clean_Gridaus, on=\"Piloto\", how=\"outer\")\n",
        "df_merged = df_merged.merge(selected_columns_df_clean_Resultaus, on=\"Piloto\", how=\"outer\")\n",
        "\n",
        "# Verificar resultado\n",
        "print(f\"Total de pilotos: {df_merged.shape[0]}\")\n",
        "print(f\"Total de columnas: {df_merged.shape[1]}\")\n",
        "print(df_merged.head())"
      ],
      "metadata": {
        "colab": {
          "base_uri": "https://localhost:8080/"
        },
        "id": "4-higV9kYd0I",
        "outputId": "eeaa8d55-5a2f-4c8d-e646-c139a0362d38"
      },
      "execution_count": null,
      "outputs": [
        {
          "output_type": "stream",
          "name": "stdout",
          "text": [
            "Total de pilotos: 20\n",
            "Total de columnas: 29\n",
            "1 Cla_fp1                     Piloto #_x    Chasis_x  Motor_x Vueltas_fp1  \\\n",
            "0      13  A. Albon  Red Bull Racing  23    Red Bull    Honda          47   \n",
            "1      14  A. Giovinazzi  Alfa Romeo  99  Alfa Romeo  Ferrari          49   \n",
            "2       9        C. Leclerc  Ferrari  16     Ferrari  Ferrari          46   \n",
            "3      10       C. Sainz  McLaren F1  55     McLaren  Renault          37   \n",
            "4      12     D. Kvyat  Racing Bulls  26  AlphaTauri    Honda          34   \n",
            "\n",
            "1       Tiempo_fp1 Intervalo_fp1 Cla_fp2 #_y  ... Cla_Grid      Tiempo_Grid  \\\n",
            "0  +1.149 1'05.453          0.01      13  23  ...        4  +0.929 1'03.868   \n",
            "1  +1.304 1'05.608         0.155      14  99  ...       18  +2.236 1'05.175   \n",
            "2  +0.994 1'05.298         0.083       9  16  ...        7  +0.984 1'03.923   \n",
            "3  +1.048 1'05.352         0.054      10  55  ...        8  +1.032 1'03.971   \n",
            "4  +1.139 1'05.443         0.028      12  26  ...       13  +1.492 1'04.431   \n",
            "\n",
            "1 Km/h_Grid Vueltas_Race          Tiempo_Race Intervalo_Race Km/h_Race  \\\n",
            "0   243.389           67  +4 Laps 1:26'42.987         2 Laps   200.086   \n",
            "1   238.508           71  +21.146 1:31'16.885          3.690   201.433   \n",
            "2    243.18           71   +2.700 1:30'58.439          2.700   202.114   \n",
            "3   242.997           71   +8.903 1:31'04.642          3.214   201.884   \n",
            "4   241.262           69  +2 Laps 1:29'04.910         2 Laps   200.099   \n",
            "\n",
            "1 Boxes_Race Puntos_Race       Abandono_Race  \n",
            "0        3.0         NaN  Unidad de Potencia  \n",
            "1        3.0         2.0                 NaN  \n",
            "2        3.0        18.0                 NaN  \n",
            "3        3.0        10.0                 NaN  \n",
            "4        3.0         NaN            Puncture  \n",
            "\n",
            "[5 rows x 29 columns]\n"
          ]
        }
      ]
    },
    {
      "cell_type": "markdown",
      "source": [
        "# scalad code\n",
        "ussing functools"
      ],
      "metadata": {
        "id": "dqfyrlc_hRfC"
      }
    },
    {
      "cell_type": "code",
      "source": [
        "from functools import reduce\n",
        "\n",
        "# Lista de DataFrames ya renombrados\n",
        "dfs = [\n",
        "    selected_columns_df_clean_fp1aus,\n",
        "    selected_columns_df_clean_fp2aus,\n",
        "    selected_columns_df_clean_fp3aus,\n",
        "    selected_columns_df_clean_Gridaus,\n",
        "    selected_columns_df_clean_Resultaus\n",
        "]\n",
        "\n",
        "# Merge secuencial usando reduce\n",
        "df_merged = reduce(lambda left, right: pd.merge(left, right, on=\"Piloto\", how=\"outer\"), dfs)"
      ],
      "metadata": {
        "id": "MFv1IqGLYvhf"
      },
      "execution_count": null,
      "outputs": []
    },
    {
      "cell_type": "code",
      "source": [
        "print(df_merged.head())"
      ],
      "metadata": {
        "colab": {
          "base_uri": "https://localhost:8080/"
        },
        "id": "fRcnDQM8hH2L",
        "outputId": "fd8f008b-b9a3-467c-f88c-1cd6f73a15a4"
      },
      "execution_count": null,
      "outputs": [
        {
          "output_type": "stream",
          "name": "stdout",
          "text": [
            "1 Cla_fp1                     Piloto #_x    Chasis_x  Motor_x Vueltas_fp1  \\\n",
            "0      13  A. Albon  Red Bull Racing  23    Red Bull    Honda          47   \n",
            "1      14  A. Giovinazzi  Alfa Romeo  99  Alfa Romeo  Ferrari          49   \n",
            "2       9        C. Leclerc  Ferrari  16     Ferrari  Ferrari          46   \n",
            "3      10       C. Sainz  McLaren F1  55     McLaren  Renault          37   \n",
            "4      12     D. Kvyat  Racing Bulls  26  AlphaTauri    Honda          34   \n",
            "\n",
            "1       Tiempo_fp1 Intervalo_fp1 Cla_fp2 #_y  ... Cla_Grid      Tiempo_Grid  \\\n",
            "0  +1.149 1'05.453          0.01      13  23  ...        4  +0.929 1'03.868   \n",
            "1  +1.304 1'05.608         0.155      14  99  ...       18  +2.236 1'05.175   \n",
            "2  +0.994 1'05.298         0.083       9  16  ...        7  +0.984 1'03.923   \n",
            "3  +1.048 1'05.352         0.054      10  55  ...        8  +1.032 1'03.971   \n",
            "4  +1.139 1'05.443         0.028      12  26  ...       13  +1.492 1'04.431   \n",
            "\n",
            "1 Km/h_Grid Vueltas_Race          Tiempo_Race Intervalo_Race Km/h_Race  \\\n",
            "0   243.389           67  +4 Laps 1:26'42.987         2 Laps   200.086   \n",
            "1   238.508           71  +21.146 1:31'16.885          3.690   201.433   \n",
            "2    243.18           71   +2.700 1:30'58.439          2.700   202.114   \n",
            "3   242.997           71   +8.903 1:31'04.642          3.214   201.884   \n",
            "4   241.262           69  +2 Laps 1:29'04.910         2 Laps   200.099   \n",
            "\n",
            "1 Boxes_Race Puntos_Race       Abandono_Race  \n",
            "0        3.0         NaN  Unidad de Potencia  \n",
            "1        3.0         2.0                 NaN  \n",
            "2        3.0        18.0                 NaN  \n",
            "3        3.0        10.0                 NaN  \n",
            "4        3.0         NaN            Puncture  \n",
            "\n",
            "[5 rows x 29 columns]\n"
          ]
        }
      ]
    },
    {
      "cell_type": "markdown",
      "source": [
        "# download the dataset"
      ],
      "metadata": {
        "id": "70UtdGTujRoZ"
      }
    },
    {
      "cell_type": "code",
      "source": [
        "df_merged.to_csv(\"AUS_GP_2020.csv\", index=False)"
      ],
      "metadata": {
        "id": "asLm6WtDhPjL"
      },
      "execution_count": null,
      "outputs": []
    }
  ]
}