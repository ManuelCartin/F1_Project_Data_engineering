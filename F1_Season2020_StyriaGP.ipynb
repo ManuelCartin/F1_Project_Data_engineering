{
  "nbformat": 4,
  "nbformat_minor": 0,
  "metadata": {
    "colab": {
      "provenance": []
    },
    "kernelspec": {
      "name": "python3",
      "display_name": "Python 3"
    },
    "language_info": {
      "name": "python"
    }
  },
  "cells": [
    {
      "cell_type": "markdown",
      "source": [
        "# F1 Stiria GP\n",
        "Notes:\n",
        "- Beautiful Soup no working\n",
        "- Let's try with pandas url\n",
        "##This is a continous to F1 project\n",
        "the idea is creating a grand dataset with F1 season 2020 - 2025"
      ],
      "metadata": {
        "id": "AC28HAfjJNDK"
      }
    },
    {
      "cell_type": "code",
      "execution_count": 1,
      "metadata": {
        "id": "46JNdVjIJBIi"
      },
      "outputs": [],
      "source": [
        "import numpy as np\n",
        "import pandas as pd"
      ]
    },
    {
      "cell_type": "markdown",
      "source": [
        "# Obtein Data\n",
        "FP1 stiria GP"
      ],
      "metadata": {
        "id": "0qdnWlkwJssw"
      }
    },
    {
      "cell_type": "code",
      "source": [
        "# FP1 stiria Gp\n",
        "url = \"https://es.motorsport.com/f1/results/2020/gp-de-estiria/?st=FP1\"\n",
        "tables = pd.read_html(url)\n",
        "\n",
        "df = tables[0]  # Selecciona la primera tabla\n",
        "df.to_csv(\"fp1_resultados_2020_sty.csv\", index=False)"
      ],
      "metadata": {
        "id": "UP6aRV6QJURn"
      },
      "execution_count": 2,
      "outputs": []
    },
    {
      "cell_type": "markdown",
      "source": [
        "# Obtein Data\n",
        "FP2 stiria GP"
      ],
      "metadata": {
        "id": "T2VSYm3uJx5X"
      }
    },
    {
      "cell_type": "code",
      "source": [
        "# FP2 stiria Gp\n",
        "url = \"https://es.motorsport.com/f1/results/2020/gp-de-estiria/?st=FP2\"\n",
        "tables = pd.read_html(url)\n",
        "\n",
        "df = tables[0]  # Selecciona la primera tabla\n",
        "df.to_csv(\"fp2_resultados_2020_sty.csv\", index=False)"
      ],
      "metadata": {
        "id": "W5I5SrZOJr2C"
      },
      "execution_count": 3,
      "outputs": []
    },
    {
      "cell_type": "markdown",
      "source": [
        "# Obtein Data\n",
        "FP3 stiria GP"
      ],
      "metadata": {
        "id": "3j1WNG4IJ_VF"
      }
    },
    {
      "cell_type": "code",
      "source": [
        "# Grid stiria Gp\n",
        "url = \"https://es.motorsport.com/f1/results/2020/gp-de-estiria/?st=GRID\"\n",
        "tables = pd.read_html(url)\n",
        "\n",
        "df = tables[0]  # Selecciona la primera tabla\n",
        "df.to_csv(\"Grid_resultados_2020_sty.csv\", index=False)"
      ],
      "metadata": {
        "id": "Vlk2gDoYJ9up"
      },
      "execution_count": 4,
      "outputs": []
    },
    {
      "cell_type": "markdown",
      "source": [
        "# Obtein Data\n",
        "Race stiria GP"
      ],
      "metadata": {
        "id": "JBZ1NgeKKQSe"
      }
    },
    {
      "cell_type": "code",
      "source": [
        "# Race stiria Gp\n",
        "url = \"https://es.motorsport.com/f1/results/2020/gp-de-estiria/?st=RACE\"\n",
        "tables = pd.read_html(url)\n",
        "\n",
        "df = tables[0]  # Selecciona la primera tabla\n",
        "df.to_csv(\"Race_resultados_2020_sty.csv\", index=False)"
      ],
      "metadata": {
        "id": "ZzxXUTyOKOD5"
      },
      "execution_count": 5,
      "outputs": []
    },
    {
      "cell_type": "markdown",
      "source": [
        "# Read Data frame\n",
        "FP1 stiria GP"
      ],
      "metadata": {
        "id": "GiFc0RwNKhSv"
      }
    },
    {
      "cell_type": "code",
      "source": [
        "# Leer sin encabezado\n",
        "df_raw = pd.read_csv('/content/fp1_resultados_2020_sty.csv', header=None)\n",
        "\n",
        "# Asignar la fila 1 como nombres de columna\n",
        "df_clean_fp1Sty = df_raw.copy()\n",
        "df_clean_fp1Sty.columns = df_clean_fp1Sty.iloc[1]  # Fila 1 como encabezado\n",
        "\n",
        "# Eliminar las filas 0 y 1 (encabezado y basura previa)\n",
        "df_clean_fp1Sty = df_clean_fp1Sty.iloc[2:]\n",
        "\n",
        "# Reiniciar el índice\n",
        "df_clean_fp1Sty.reset_index(drop=True, inplace=True)\n",
        "\n",
        "# Mostrar el resultado\n",
        "print(df_clean_fp1Sty.head())"
      ],
      "metadata": {
        "colab": {
          "base_uri": "https://localhost:8080/"
        },
        "id": "3JKQcT5IKdZK",
        "outputId": "f253ca3a-1bb4-4933-e3f5-88afbb225c57"
      },
      "execution_count": 7,
      "outputs": [
        {
          "output_type": "stream",
          "name": "stdout",
          "text": [
            "1 Cla                          Piloto   # Unnamed: 3_level_1        Chasis  \\\n",
            "0   1         S. PÃ©rez  Racing Point  11                NaN  Racing Point   \n",
            "1   2  M. Verstappen  Red Bull Racing  33                NaN      Red Bull   \n",
            "2   3             V. Bottas  Mercedes  77                NaN      Mercedes   \n",
            "3   4           L. Hamilton  Mercedes  44                NaN      Mercedes   \n",
            "4   5         L. Stroll  Racing Point  18                NaN  Racing Point   \n",
            "\n",
            "1     Motor Vueltas           Tiempo Intervalo NeumÃ¡ticos  ...  \\\n",
            "0  Mercedes      32         1'04.867       NaN         NaN  ...   \n",
            "1     Honda      31  +0.096 1'04.963     0.096         NaN  ...   \n",
            "2  Mercedes      31  +0.222 1'05.089     0.126         NaN  ...   \n",
            "3  Mercedes      29  +0.253 1'05.120     0.031         NaN  ...   \n",
            "4  Mercedes      36  +0.529 1'05.396     0.276         NaN  ...   \n",
            "\n",
            "1 Unnamed: 90_level_1 Unnamed: 91_level_1 Unnamed: 92_level_1  \\\n",
            "0                 NaN                 NaN                 NaN   \n",
            "1                 NaN                 NaN                 NaN   \n",
            "2                 NaN                 NaN                 NaN   \n",
            "3                 NaN                 NaN                 NaN   \n",
            "4                 NaN                 NaN                 NaN   \n",
            "\n",
            "1 Unnamed: 93_level_1 Unnamed: 94_level_1 Unnamed: 95_level_1  \\\n",
            "0                 NaN                 NaN                 NaN   \n",
            "1                 NaN                 NaN                 NaN   \n",
            "2                 NaN                 NaN                 NaN   \n",
            "3                 NaN                 NaN                 NaN   \n",
            "4                 NaN                 NaN                 NaN   \n",
            "\n",
            "1 Unnamed: 96_level_1 Unnamed: 97_level_1 Unnamed: 98_level_1  \\\n",
            "0                 NaN                 NaN                 NaN   \n",
            "1                 NaN                 NaN                 NaN   \n",
            "2                 NaN                 NaN                 NaN   \n",
            "3                 NaN                 NaN                 NaN   \n",
            "4                 NaN                 NaN                 NaN   \n",
            "\n",
            "1 Unnamed: 99_level_1  \n",
            "0                 NaN  \n",
            "1                 NaN  \n",
            "2                 NaN  \n",
            "3                 NaN  \n",
            "4                 NaN  \n",
            "\n",
            "[5 rows x 100 columns]\n"
          ]
        }
      ]
    },
    {
      "cell_type": "markdown",
      "source": [
        "# Selected Rows\n",
        "stiria GP FP2"
      ],
      "metadata": {
        "id": "lOJuUdDcLs-E"
      }
    },
    {
      "cell_type": "code",
      "source": [
        "# Seleccionar las columnas de interés\n",
        "selected_columns_df_clean_fp1Sty = df_clean_fp1Sty[['Cla', 'Piloto', '#', 'Chasis','Motor','Vueltas','Tiempo' , 'Intervalo']]\n",
        "print(selected_columns_df_clean_fp1Sty.head())"
      ],
      "metadata": {
        "colab": {
          "base_uri": "https://localhost:8080/"
        },
        "id": "n-zfT5VtLxiM",
        "outputId": "bd706bc9-97df-4bf1-d2f1-4f70a6cfdd46"
      },
      "execution_count": 9,
      "outputs": [
        {
          "output_type": "stream",
          "name": "stdout",
          "text": [
            "1 Cla                          Piloto   #        Chasis     Motor Vueltas  \\\n",
            "0   1         S. PÃ©rez  Racing Point  11  Racing Point  Mercedes      32   \n",
            "1   2  M. Verstappen  Red Bull Racing  33      Red Bull     Honda      31   \n",
            "2   3             V. Bottas  Mercedes  77      Mercedes  Mercedes      31   \n",
            "3   4           L. Hamilton  Mercedes  44      Mercedes  Mercedes      29   \n",
            "4   5         L. Stroll  Racing Point  18  Racing Point  Mercedes      36   \n",
            "\n",
            "1           Tiempo Intervalo  \n",
            "0         1'04.867       NaN  \n",
            "1  +0.096 1'04.963     0.096  \n",
            "2  +0.222 1'05.089     0.126  \n",
            "3  +0.253 1'05.120     0.031  \n",
            "4  +0.529 1'05.396     0.276  \n"
          ]
        }
      ]
    },
    {
      "cell_type": "markdown",
      "source": [
        "# Rename rows\n",
        "FP1 Stiria GP"
      ],
      "metadata": {
        "id": "9qwKPe08L9bE"
      }
    },
    {
      "cell_type": "code",
      "source": [
        "selected_columns_df_clean_fp1Sty = selected_columns_df_clean_fp1Sty[['Cla', 'Piloto', '#', 'Chasis','Motor','Vueltas','Tiempo' , 'Intervalo']].copy()\n",
        "\n",
        "excluir = [\"Piloto\", \"#\", \"Chasis\", \"Motor\"]\n",
        "\n",
        "selected_columns_df_clean_fp1Sty.rename(\n",
        "    columns={col: f\"{col}_fp1\" for col in selected_columns_df_clean_fp1Sty.columns if col not in excluir},\n",
        "    inplace=True\n",
        ")"
      ],
      "metadata": {
        "collapsed": true,
        "id": "rDEcYW3aMARk"
      },
      "execution_count": null,
      "outputs": []
    },
    {
      "cell_type": "code",
      "source": [
        "print(selected_columns_df_clean_fp1Sty.head())"
      ],
      "metadata": {
        "colab": {
          "base_uri": "https://localhost:8080/"
        },
        "id": "i4-jTPDMMOKl",
        "outputId": "09c14f70-926c-406a-a327-4439d87b64b7"
      },
      "execution_count": 12,
      "outputs": [
        {
          "output_type": "stream",
          "name": "stdout",
          "text": [
            "1 Cla_fp1                          Piloto   #        Chasis     Motor  \\\n",
            "0       1         S. PÃ©rez  Racing Point  11  Racing Point  Mercedes   \n",
            "1       2  M. Verstappen  Red Bull Racing  33      Red Bull     Honda   \n",
            "2       3             V. Bottas  Mercedes  77      Mercedes  Mercedes   \n",
            "3       4           L. Hamilton  Mercedes  44      Mercedes  Mercedes   \n",
            "4       5         L. Stroll  Racing Point  18  Racing Point  Mercedes   \n",
            "\n",
            "1 Vueltas_fp1       Tiempo_fp1 Intervalo_fp1  \n",
            "0          32         1'04.867           NaN  \n",
            "1          31  +0.096 1'04.963         0.096  \n",
            "2          31  +0.222 1'05.089         0.126  \n",
            "3          29  +0.253 1'05.120         0.031  \n",
            "4          36  +0.529 1'05.396         0.276  \n"
          ]
        }
      ]
    },
    {
      "cell_type": "markdown",
      "source": [
        "# Read Data Frame\n",
        "FP2 Stiria GP"
      ],
      "metadata": {
        "id": "qlQcERM8LRFE"
      }
    },
    {
      "cell_type": "code",
      "source": [
        "# Leer sin encabezado\n",
        "df_raw = pd.read_csv('/content/fp2_resultados_2020_sty.csv', header=None)\n",
        "\n",
        "# Asignar la fila 1 como nombres de columna\n",
        "df_clean_fp2Sty = df_raw.copy()\n",
        "df_clean_fp2Sty.columns = df_clean_fp2Sty.iloc[1]  # Fila 1 como encabezado\n",
        "\n",
        "# Eliminar las filas 0 y 1 (encabezado y basura previa)\n",
        "df_clean_fp2Sty = df_clean_fp2Sty.iloc[2:]\n",
        "\n",
        "# Reiniciar el índice\n",
        "df_clean_fp2Sty.reset_index(drop=True, inplace=True)\n",
        "\n",
        "# Mostrar el resultado\n",
        "print(df_clean_fp2Sty.head())"
      ],
      "metadata": {
        "colab": {
          "base_uri": "https://localhost:8080/"
        },
        "id": "BxCB4Vo_LK_4",
        "outputId": "9fb0a555-9c12-4dc6-f9ed-165874f26156"
      },
      "execution_count": 8,
      "outputs": [
        {
          "output_type": "stream",
          "name": "stdout",
          "text": [
            "1 Cla                          Piloto   # Unnamed: 3_level_1        Chasis  \\\n",
            "0   1  M. Verstappen  Red Bull Racing  33                NaN      Red Bull   \n",
            "1   2             V. Bottas  Mercedes  77                NaN      Mercedes   \n",
            "2   3         S. PÃ©rez  Racing Point  11                NaN  Racing Point   \n",
            "3   4         L. Stroll  Racing Point  18                NaN  Racing Point   \n",
            "4   5            C. Sainz  McLaren F1  55                NaN       McLaren   \n",
            "\n",
            "1     Motor Vueltas           Tiempo Intervalo NeumÃ¡ticos  ...  \\\n",
            "0     Honda      27         1'03.660       NaN         NaN  ...   \n",
            "1  Mercedes      36  +0.043 1'03.703     0.043         NaN  ...   \n",
            "2  Mercedes      43  +0.217 1'03.877     0.174         NaN  ...   \n",
            "3  Mercedes      43  +0.581 1'04.241     0.364         NaN  ...   \n",
            "4   Renault      45  +0.673 1'04.333     0.092         NaN  ...   \n",
            "\n",
            "1 Unnamed: 90_level_1 Unnamed: 91_level_1 Unnamed: 92_level_1  \\\n",
            "0                 NaN                 NaN                 NaN   \n",
            "1                 NaN                 NaN                 NaN   \n",
            "2                 NaN                 NaN                 NaN   \n",
            "3                 NaN                 NaN                 NaN   \n",
            "4                 NaN                 NaN                 NaN   \n",
            "\n",
            "1 Unnamed: 93_level_1 Unnamed: 94_level_1 Unnamed: 95_level_1  \\\n",
            "0                 NaN                 NaN                 NaN   \n",
            "1                 NaN                 NaN                 NaN   \n",
            "2                 NaN                 NaN                 NaN   \n",
            "3                 NaN                 NaN                 NaN   \n",
            "4                 NaN                 NaN                 NaN   \n",
            "\n",
            "1 Unnamed: 96_level_1 Unnamed: 97_level_1 Unnamed: 98_level_1  \\\n",
            "0                 NaN                 NaN                 NaN   \n",
            "1                 NaN                 NaN                 NaN   \n",
            "2                 NaN                 NaN                 NaN   \n",
            "3                 NaN                 NaN                 NaN   \n",
            "4                 NaN                 NaN                 NaN   \n",
            "\n",
            "1 Unnamed: 99_level_1  \n",
            "0                 NaN  \n",
            "1                 NaN  \n",
            "2                 NaN  \n",
            "3                 NaN  \n",
            "4                 NaN  \n",
            "\n",
            "[5 rows x 100 columns]\n"
          ]
        }
      ]
    },
    {
      "cell_type": "markdown",
      "source": [
        "# Selected Rows\n",
        "Stiria GP FP2\n"
      ],
      "metadata": {
        "id": "PP9FrdcvM2Tf"
      }
    },
    {
      "cell_type": "code",
      "source": [
        "# Seleccionar las columnas de interés\n",
        "selected_columns_df_clean_fp2Sty = df_clean_fp2Sty[['Cla', 'Piloto', '#', 'Chasis','Motor','Vueltas','Tiempo' , 'Intervalo']]\n",
        "print(selected_columns_df_clean_fp2Sty.head())"
      ],
      "metadata": {
        "colab": {
          "base_uri": "https://localhost:8080/"
        },
        "id": "yMkGIzJELo4u",
        "outputId": "2853c646-4b4c-4815-8518-821806acd1ce"
      },
      "execution_count": 17,
      "outputs": [
        {
          "output_type": "stream",
          "name": "stdout",
          "text": [
            "1 Cla                          Piloto   #        Chasis     Motor Vueltas  \\\n",
            "0   1  M. Verstappen  Red Bull Racing  33      Red Bull     Honda      27   \n",
            "1   2             V. Bottas  Mercedes  77      Mercedes  Mercedes      36   \n",
            "2   3         S. PÃ©rez  Racing Point  11  Racing Point  Mercedes      43   \n",
            "3   4         L. Stroll  Racing Point  18  Racing Point  Mercedes      43   \n",
            "4   5            C. Sainz  McLaren F1  55       McLaren   Renault      45   \n",
            "\n",
            "1           Tiempo Intervalo  \n",
            "0         1'03.660       NaN  \n",
            "1  +0.043 1'03.703     0.043  \n",
            "2  +0.217 1'03.877     0.174  \n",
            "3  +0.581 1'04.241     0.364  \n",
            "4  +0.673 1'04.333     0.092  \n"
          ]
        }
      ]
    },
    {
      "cell_type": "markdown",
      "source": [
        "# Rename Data Frame\n",
        "stiria GP FP2"
      ],
      "metadata": {
        "id": "H1SsnxhJM_JT"
      }
    },
    {
      "cell_type": "code",
      "source": [
        "selected_columns_df_clean_fp2Sty = selected_columns_df_clean_fp2Sty.copy()\n",
        "selected_columns_df_clean_fp2Sty.rename(\n",
        "    columns={col: f\"{col}_fp2\" for col in selected_columns_df_clean_fp2Sty.columns if col not in excluir},\n",
        "    inplace=True\n",
        ")"
      ],
      "metadata": {
        "id": "JF9MnZLfOk81"
      },
      "execution_count": 25,
      "outputs": []
    },
    {
      "cell_type": "code",
      "source": [
        "print(selected_columns_df_clean_fp2Sty.head())"
      ],
      "metadata": {
        "colab": {
          "base_uri": "https://localhost:8080/"
        },
        "id": "a0dyXDb_Oq1U",
        "outputId": "472f90e0-bd04-46be-a780-77f6ae50d005"
      },
      "execution_count": 26,
      "outputs": [
        {
          "output_type": "stream",
          "name": "stdout",
          "text": [
            "1 Cla_fp2                          Piloto   #        Chasis     Motor  \\\n",
            "0       1  M. Verstappen  Red Bull Racing  33      Red Bull     Honda   \n",
            "1       2             V. Bottas  Mercedes  77      Mercedes  Mercedes   \n",
            "2       3         S. PÃ©rez  Racing Point  11  Racing Point  Mercedes   \n",
            "3       4         L. Stroll  Racing Point  18  Racing Point  Mercedes   \n",
            "4       5            C. Sainz  McLaren F1  55       McLaren   Renault   \n",
            "\n",
            "1 Vueltas_fp2       Tiempo_fp2 Intervalo_fp2  \n",
            "0          27         1'03.660           NaN  \n",
            "1          36  +0.043 1'03.703         0.043  \n",
            "2          43  +0.217 1'03.877         0.174  \n",
            "3          43  +0.581 1'04.241         0.364  \n",
            "4          45  +0.673 1'04.333         0.092  \n"
          ]
        }
      ]
    },
    {
      "cell_type": "markdown",
      "source": [
        "# Read Data Frame\n",
        "FP3 Stiria GP\n",
        "\n",
        "**Note: for covid the FP3 don't race...in this case the fp2 is the same fp3 for manage the dataframe**"
      ],
      "metadata": {
        "id": "KBLM6gumNPKM"
      }
    },
    {
      "cell_type": "code",
      "source": [
        "selected_columns_df_clean_fp3Sty = selected_columns_df_clean_fp2Sty.copy()\n",
        "selected_columns_df_clean_fp3Sty.rename(\n",
        "    columns={col: f\"{col}_fp3\" for col in selected_columns_df_clean_fp3Sty.columns if col not in excluir},\n",
        "    inplace=True\n",
        ")"
      ],
      "metadata": {
        "id": "CYuK2MbpNOJF"
      },
      "execution_count": 20,
      "outputs": []
    },
    {
      "cell_type": "code",
      "source": [
        "print(selected_columns_df_clean_fp3Sty.head())"
      ],
      "metadata": {
        "colab": {
          "base_uri": "https://localhost:8080/"
        },
        "id": "1K70KpSFOVRR",
        "outputId": "b2fdb996-0760-475a-c41b-84e910b578ab"
      },
      "execution_count": 24,
      "outputs": [
        {
          "output_type": "stream",
          "name": "stdout",
          "text": [
            "1 Cla_fp3                          Piloto   #        Chasis     Motor  \\\n",
            "0       1  M. Verstappen  Red Bull Racing  33      Red Bull     Honda   \n",
            "1       2             V. Bottas  Mercedes  77      Mercedes  Mercedes   \n",
            "2       3         S. PÃ©rez  Racing Point  11  Racing Point  Mercedes   \n",
            "3       4         L. Stroll  Racing Point  18  Racing Point  Mercedes   \n",
            "4       5            C. Sainz  McLaren F1  55       McLaren   Renault   \n",
            "\n",
            "1 Vueltas_fp3       Tiempo_fp3 Intervalo_fp3  \n",
            "0          27         1'03.660           NaN  \n",
            "1          36  +0.043 1'03.703         0.043  \n",
            "2          43  +0.217 1'03.877         0.174  \n",
            "3          43  +0.581 1'04.241         0.364  \n",
            "4          45  +0.673 1'04.333         0.092  \n"
          ]
        }
      ]
    },
    {
      "cell_type": "markdown",
      "source": [
        "# Read Data Frame\n",
        "Grid Stiria GP"
      ],
      "metadata": {
        "id": "m8zSYMdzPbjT"
      }
    },
    {
      "cell_type": "code",
      "source": [
        "# Leer sin encabezado\n",
        "df_raw = pd.read_csv('/content/Grid_resultados_2020_sty.csv', header=None)\n",
        "\n",
        "# Asignar la fila 1 como nombres de columna\n",
        "df_clean_GridSty = df_raw.copy()\n",
        "df_clean_GridSty.columns = df_clean_GridSty.iloc[1]  # Fila 1 como encabezado\n",
        "\n",
        "# Eliminar las filas 0 y 1 (encabezado y basura previa)\n",
        "df_clean_GridSty = df_clean_GridSty.iloc[2:]\n",
        "\n",
        "# Reiniciar el índice\n",
        "df_clean_GridSty.reset_index(drop=True, inplace=True)\n",
        "\n",
        "# Mostrar el resultado\n",
        "print(df_clean_GridSty.head())"
      ],
      "metadata": {
        "colab": {
          "base_uri": "https://localhost:8080/"
        },
        "id": "x3AnMZ8aOdJa",
        "outputId": "0fb1ad52-4ffc-4bec-a92b-a5ef877d53d7"
      },
      "execution_count": 27,
      "outputs": [
        {
          "output_type": "stream",
          "name": "stdout",
          "text": [
            "1 Cla                          Piloto   # Unnamed: 3_level_1    Chasis  \\\n",
            "0   1           L. Hamilton  Mercedes  44                NaN  Mercedes   \n",
            "1   2  M. Verstappen  Red Bull Racing  33                NaN  Red Bull   \n",
            "2   3            C. Sainz  McLaren F1  55                NaN   McLaren   \n",
            "3   4             V. Bottas  Mercedes  77                NaN  Mercedes   \n",
            "4   5        E. Ocon  Renault F1 Team  31                NaN   Renault   \n",
            "\n",
            "1     Motor           Tiempo NeumÃ¡ticos     Km/h Unnamed: 9_level_1  ...  \\\n",
            "0  Mercedes         1'19.273         NaN  196.091                NaN  ...   \n",
            "1     Honda  +1.216 1'20.489         NaN  193.129                NaN  ...   \n",
            "2   Renault  +1.398 1'20.671         NaN  192.693                NaN  ...   \n",
            "3  Mercedes  +1.428 1'20.701         NaN  192.622                NaN  ...   \n",
            "4   Renault  +1.649 1'20.922         NaN  192.096                NaN  ...   \n",
            "\n",
            "1 Unnamed: 90_level_1 Unnamed: 91_level_1 Unnamed: 92_level_1  \\\n",
            "0                 NaN                 NaN                 NaN   \n",
            "1                 NaN                 NaN                 NaN   \n",
            "2                 NaN                 NaN                 NaN   \n",
            "3                 NaN                 NaN                 NaN   \n",
            "4                 NaN                 NaN                 NaN   \n",
            "\n",
            "1 Unnamed: 93_level_1 Unnamed: 94_level_1 Unnamed: 95_level_1  \\\n",
            "0                 NaN                 NaN                 NaN   \n",
            "1                 NaN                 NaN                 NaN   \n",
            "2                 NaN                 NaN                 NaN   \n",
            "3                 NaN                 NaN                 NaN   \n",
            "4                 NaN                 NaN                 NaN   \n",
            "\n",
            "1 Unnamed: 96_level_1 Unnamed: 97_level_1 Unnamed: 98_level_1  \\\n",
            "0                 NaN                 NaN                 NaN   \n",
            "1                 NaN                 NaN                 NaN   \n",
            "2                 NaN                 NaN                 NaN   \n",
            "3                 NaN                 NaN                 NaN   \n",
            "4                 NaN                 NaN                 NaN   \n",
            "\n",
            "1 Unnamed: 99_level_1  \n",
            "0                 NaN  \n",
            "1                 NaN  \n",
            "2                 NaN  \n",
            "3                 NaN  \n",
            "4                 NaN  \n",
            "\n",
            "[5 rows x 100 columns]\n"
          ]
        }
      ]
    },
    {
      "cell_type": "markdown",
      "source": [
        "# Select Rows\n",
        "Grid Stiria GP"
      ],
      "metadata": {
        "id": "reqR7pnHPzfN"
      }
    },
    {
      "cell_type": "code",
      "source": [
        "# Seleccionar las columnas de interés\n",
        "selected_columns_df_clean_GridSty = df_clean_GridSty[['Cla', 'Piloto', '#', 'Chasis','Motor','Tiempo']]\n",
        "print(selected_columns_df_clean_GridSty.head())"
      ],
      "metadata": {
        "colab": {
          "base_uri": "https://localhost:8080/"
        },
        "id": "2AeHwKeYQqtF",
        "outputId": "c5aeb75b-0c43-4def-d02e-e0b06cd1e742"
      },
      "execution_count": 32,
      "outputs": [
        {
          "output_type": "stream",
          "name": "stdout",
          "text": [
            "1 Cla                          Piloto   #    Chasis     Motor           Tiempo\n",
            "0   1           L. Hamilton  Mercedes  44  Mercedes  Mercedes         1'19.273\n",
            "1   2  M. Verstappen  Red Bull Racing  33  Red Bull     Honda  +1.216 1'20.489\n",
            "2   3            C. Sainz  McLaren F1  55   McLaren   Renault  +1.398 1'20.671\n",
            "3   4             V. Bottas  Mercedes  77  Mercedes  Mercedes  +1.428 1'20.701\n",
            "4   5        E. Ocon  Renault F1 Team  31   Renault   Renault  +1.649 1'20.922\n"
          ]
        }
      ]
    },
    {
      "cell_type": "markdown",
      "source": [
        "# Rename Data Frame\n",
        "Grid Stiria GP"
      ],
      "metadata": {
        "id": "PEmAe728RR2_"
      }
    },
    {
      "cell_type": "code",
      "source": [
        "selected_columns_df_clean_GridSty = df_clean_GridSty[['Cla', 'Piloto', '#', 'Chasis','Motor','Tiempo']].copy()\n",
        "\n",
        "excluir = [\"Piloto\", \"#\", \"Chasis\", \"Motor\"]\n",
        "\n",
        "selected_columns_df_clean_GridSty.rename(\n",
        "    columns={col: f\"{col}_Grid\" for col in selected_columns_df_clean_GridSty.columns if col not in excluir},\n",
        "    inplace=True\n",
        ")"
      ],
      "metadata": {
        "id": "hv5IaeugPvLR"
      },
      "execution_count": 36,
      "outputs": []
    },
    {
      "cell_type": "code",
      "source": [
        "print(selected_columns_df_clean_GridSty.head())"
      ],
      "metadata": {
        "colab": {
          "base_uri": "https://localhost:8080/"
        },
        "id": "c0TOtcOBQgd_",
        "outputId": "785dfd37-6ec8-46ea-fac9-8feccf81c345"
      },
      "execution_count": 37,
      "outputs": [
        {
          "output_type": "stream",
          "name": "stdout",
          "text": [
            "1 Cla_Grid                          Piloto   #    Chasis     Motor  \\\n",
            "0        1           L. Hamilton  Mercedes  44  Mercedes  Mercedes   \n",
            "1        2  M. Verstappen  Red Bull Racing  33  Red Bull     Honda   \n",
            "2        3            C. Sainz  McLaren F1  55   McLaren   Renault   \n",
            "3        4             V. Bottas  Mercedes  77  Mercedes  Mercedes   \n",
            "4        5        E. Ocon  Renault F1 Team  31   Renault   Renault   \n",
            "\n",
            "1      Tiempo_Grid  \n",
            "0         1'19.273  \n",
            "1  +1.216 1'20.489  \n",
            "2  +1.398 1'20.671  \n",
            "3  +1.428 1'20.701  \n",
            "4  +1.649 1'20.922  \n"
          ]
        }
      ]
    },
    {
      "cell_type": "markdown",
      "source": [
        "# Read data Frame\n",
        "Stiria Race Result"
      ],
      "metadata": {
        "id": "SNuDoIPBRg8e"
      }
    },
    {
      "cell_type": "code",
      "source": [
        "# Leer sin encabezado\n",
        "# Leer sin encabezado\n",
        "df_Result_StyGP = pd.read_csv('/content/Race_resultados_2020_sty.csv', header=None)\n",
        "\n",
        "# Asignar la fila 1 como nombres de columna\n",
        "df_clean_RaceSty = df_Result_StyGP.copy()\n",
        "df_clean_RaceSty.columns = df_clean_RaceSty.iloc[1]  # Fila 1 como encabezado\n",
        "\n",
        "# Eliminar las filas 0 y 1 (encabezado y basura previa)\n",
        "df_clean_RaceSty = df_clean_RaceSty.iloc[2:]\n",
        "\n",
        "# Reiniciar el índice\n",
        "df_clean_RaceSty.reset_index(drop=True, inplace=True)\n",
        "\n",
        "# Mostrar el resultado\n",
        "print(df_clean_RaceSty.head())"
      ],
      "metadata": {
        "colab": {
          "base_uri": "https://localhost:8080/"
        },
        "id": "ojNaBNefRaME",
        "outputId": "9babfdbe-7ea1-4116-87b8-af101f741743"
      },
      "execution_count": 49,
      "outputs": [
        {
          "output_type": "stream",
          "name": "stdout",
          "text": [
            "1 Cla                          Piloto   # Unnamed: 3_level_1 Vueltas  \\\n",
            "0   1           L. Hamilton  Mercedes  44                NaN      71   \n",
            "1   2             V. Bottas  Mercedes  77                NaN      71   \n",
            "2   3  M. Verstappen  Red Bull Racing  33                NaN      71   \n",
            "3   4       A. Albon  Red Bull Racing  23                NaN      71   \n",
            "4   5           L. Norris  McLaren F1   4                NaN      71   \n",
            "\n",
            "1                 Tiempo Intervalo     Km/h Boxes Puntos  ...  \\\n",
            "0            1:22'50.683       NaN  221.946     1   25.0  ...   \n",
            "1    +13.719 1:23'04.402    13.719  221.335     1   18.0  ...   \n",
            "2    +33.698 1:23'24.381    19.979  220.452     2   15.0  ...   \n",
            "3    +44.400 1:23'35.083    10.702  219.981     1   12.0  ...   \n",
            "4  +1'01.470 1:23'52.153    17.070  219.235     1   10.0  ...   \n",
            "\n",
            "1 Unnamed: 90_level_1 Unnamed: 91_level_1 Unnamed: 92_level_1  \\\n",
            "0                 NaN                 NaN                 NaN   \n",
            "1                 NaN                 NaN                 NaN   \n",
            "2                 NaN                 NaN                 NaN   \n",
            "3                 NaN                 NaN                 NaN   \n",
            "4                 NaN                 NaN                 NaN   \n",
            "\n",
            "1 Unnamed: 93_level_1 Unnamed: 94_level_1 Unnamed: 95_level_1  \\\n",
            "0                 NaN                 NaN                 NaN   \n",
            "1                 NaN                 NaN                 NaN   \n",
            "2                 NaN                 NaN                 NaN   \n",
            "3                 NaN                 NaN                 NaN   \n",
            "4                 NaN                 NaN                 NaN   \n",
            "\n",
            "1 Unnamed: 96_level_1 Unnamed: 97_level_1 Unnamed: 98_level_1  \\\n",
            "0                 NaN                 NaN                 NaN   \n",
            "1                 NaN                 NaN                 NaN   \n",
            "2                 NaN                 NaN                 NaN   \n",
            "3                 NaN                 NaN                 NaN   \n",
            "4                 NaN                 NaN                 NaN   \n",
            "\n",
            "1 Unnamed: 99_level_1  \n",
            "0                 NaN  \n",
            "1                 NaN  \n",
            "2                 NaN  \n",
            "3                 NaN  \n",
            "4                 NaN  \n",
            "\n",
            "[5 rows x 100 columns]\n"
          ]
        }
      ]
    },
    {
      "cell_type": "markdown",
      "source": [
        "# select Rows\n",
        "Race Results Stiria GP"
      ],
      "metadata": {
        "id": "anwqhKy-SF0-"
      }
    },
    {
      "cell_type": "code",
      "source": [
        "# Seleccionar las columnas de interés\n",
        "selected_columns_df_clean_RaceSty = df_clean_RaceSty[[ 'Piloto','Vueltas', 'Tiempo', 'Intervalo' ,'Km/h', 'Boxes', 'Puntos', 'Abandono']]\n",
        "print(selected_columns_df_clean_RaceSty.head())"
      ],
      "metadata": {
        "colab": {
          "base_uri": "https://localhost:8080/"
        },
        "id": "tdrdaLdSTBDs",
        "outputId": "58468d51-61bc-4754-9e18-f3379c885cbd"
      },
      "execution_count": 50,
      "outputs": [
        {
          "output_type": "stream",
          "name": "stdout",
          "text": [
            "1                          Piloto Vueltas                 Tiempo Intervalo  \\\n",
            "0           L. Hamilton  Mercedes      71            1:22'50.683       NaN   \n",
            "1             V. Bottas  Mercedes      71    +13.719 1:23'04.402    13.719   \n",
            "2  M. Verstappen  Red Bull Racing      71    +33.698 1:23'24.381    19.979   \n",
            "3       A. Albon  Red Bull Racing      71    +44.400 1:23'35.083    10.702   \n",
            "4           L. Norris  McLaren F1      71  +1'01.470 1:23'52.153    17.070   \n",
            "\n",
            "1     Km/h Boxes Puntos Abandono  \n",
            "0  221.946     1   25.0      NaN  \n",
            "1  221.335     1   18.0      NaN  \n",
            "2  220.452     2   15.0      NaN  \n",
            "3  219.981     1   12.0      NaN  \n",
            "4  219.235     1   10.0      NaN  \n"
          ]
        }
      ]
    },
    {
      "cell_type": "markdown",
      "source": [
        "# Rename rows\n",
        "Race Results Stiria GP"
      ],
      "metadata": {
        "id": "94wJVpcKSion"
      }
    },
    {
      "cell_type": "code",
      "source": [
        "selected_columns_df_clean_RaceSty = df_clean_RaceSty[['Cla', 'Piloto', '#', 'Chasis','Motor','Vueltas','Tiempo' , 'Intervalo']].copy()\n",
        "\n",
        "excluir = [\"Piloto\", \"#\", \"Chasis\", \"Motor\"]\n",
        "\n",
        "selected_columns_df_clean_RaceSty.rename(\n",
        "    columns={col: f\"{col}_Race\" for col in selected_columns_df_clean_RaceSty.columns if col not in excluir},\n",
        "    inplace=True\n",
        ")"
      ],
      "metadata": {
        "id": "ybGK3BTqSNWr"
      },
      "execution_count": 56,
      "outputs": []
    },
    {
      "cell_type": "code",
      "source": [
        "print(selected_columns_df_clean_RaceSty.head())"
      ],
      "metadata": {
        "colab": {
          "base_uri": "https://localhost:8080/"
        },
        "id": "tuoOIpDPSro1",
        "outputId": "ab511f59-81ac-49a3-cd24-607a404d342a"
      },
      "execution_count": 57,
      "outputs": [
        {
          "output_type": "stream",
          "name": "stdout",
          "text": [
            "1 Cla_Race                          Piloto   #    Chasis     Motor  \\\n",
            "0        1           L. Hamilton  Mercedes  44  Mercedes  Mercedes   \n",
            "1        2             V. Bottas  Mercedes  77  Mercedes  Mercedes   \n",
            "2        3  M. Verstappen  Red Bull Racing  33  Red Bull     Honda   \n",
            "3        4       A. Albon  Red Bull Racing  23  Red Bull     Honda   \n",
            "4        5           L. Norris  McLaren F1   4   McLaren   Renault   \n",
            "\n",
            "1 Vueltas_Race            Tiempo_Race Intervalo_Race  \n",
            "0           71            1:22'50.683            NaN  \n",
            "1           71    +13.719 1:23'04.402         13.719  \n",
            "2           71    +33.698 1:23'24.381         19.979  \n",
            "3           71    +44.400 1:23'35.083         10.702  \n",
            "4           71  +1'01.470 1:23'52.153         17.070  \n"
          ]
        }
      ]
    },
    {
      "cell_type": "markdown",
      "source": [
        "# Merged Data Frame\n",
        "Ussing functools"
      ],
      "metadata": {
        "id": "WnW-jR-xVJSS"
      }
    },
    {
      "cell_type": "code",
      "source": [
        "def rename_session_columns(df, session, exclude=[\"Piloto\", \"#\", \"Chasis\", \"Motor\"]):\n",
        "    return df.rename(columns={col: f\"{col}_{session}\" for col in df.columns if col not in exclude})"
      ],
      "metadata": {
        "id": "ztp8MWIoVkFv"
      },
      "execution_count": 59,
      "outputs": []
    },
    {
      "cell_type": "code",
      "source": [
        "dfs = [\n",
        "    rename_session_columns(selected_columns_df_clean_fp1Sty, \"fp1\"),\n",
        "    rename_session_columns(selected_columns_df_clean_fp2Sty, \"fp2\"),\n",
        "    rename_session_columns(selected_columns_df_clean_fp3Sty, \"fp3\"),\n",
        "    rename_session_columns(selected_columns_df_clean_GridSty, \"grid\"),\n",
        "    rename_session_columns(selected_columns_df_clean_RaceSty, \"race\")\n",
        "]"
      ],
      "metadata": {
        "id": "wuAdLA6nVmWG"
      },
      "execution_count": 60,
      "outputs": []
    },
    {
      "cell_type": "code",
      "source": [
        "for i, df in enumerate(dfs):\n",
        "    print(f\"DF {i} columns:\", df.columns.tolist())"
      ],
      "metadata": {
        "colab": {
          "base_uri": "https://localhost:8080/"
        },
        "id": "hs7eMIarV0t1",
        "outputId": "1ff24a08-9c2d-44f4-fcdc-b634541122bf"
      },
      "execution_count": 62,
      "outputs": [
        {
          "output_type": "stream",
          "name": "stdout",
          "text": [
            "DF 0 columns: ['Cla_fp1_fp1', 'Piloto', '#', 'Chasis', 'Motor', 'Vueltas_fp1_fp1', 'Tiempo_fp1_fp1', 'Intervalo_fp1_fp1']\n",
            "DF 1 columns: ['Cla_fp2_fp2', 'Piloto', '#', 'Chasis', 'Motor', 'Vueltas_fp2_fp2', 'Tiempo_fp2_fp2', 'Intervalo_fp2_fp2']\n",
            "DF 2 columns: ['Cla_fp3_fp3', 'Piloto', '#', 'Chasis', 'Motor', 'Vueltas_fp3_fp3', 'Tiempo_fp3_fp3', 'Intervalo_fp3_fp3']\n",
            "DF 3 columns: ['Cla_Grid_grid', 'Piloto', '#', 'Chasis', 'Motor', 'Tiempo_Grid_grid']\n",
            "DF 4 columns: ['Cla_Race_race', 'Piloto', '#', 'Chasis', 'Motor', 'Vueltas_Race_race', 'Tiempo_Race_race', 'Intervalo_Race_race']\n"
          ]
        }
      ]
    },
    {
      "cell_type": "code",
      "source": [
        "cols_comunes = [\"#\", \"Chasis\", \"Motor\"]"
      ],
      "metadata": {
        "id": "yQWKD3-bV8vM"
      },
      "execution_count": 63,
      "outputs": []
    },
    {
      "cell_type": "code",
      "source": [
        "dfs_clean = [dfs[0]] + [df.drop(columns=cols_comunes) for df in dfs[1:]]"
      ],
      "metadata": {
        "id": "qOr5PlLgV-zj"
      },
      "execution_count": 64,
      "outputs": []
    },
    {
      "cell_type": "code",
      "source": [
        "from functools import reduce\n",
        "\n",
        "df_merged = reduce(lambda left, right: pd.merge(left, right, on=\"Piloto\", how=\"outer\"), dfs_clean)"
      ],
      "metadata": {
        "id": "KzLAdS7VVE9T"
      },
      "execution_count": 65,
      "outputs": []
    },
    {
      "cell_type": "code",
      "source": [
        "print(df_merged.head())"
      ],
      "metadata": {
        "colab": {
          "base_uri": "https://localhost:8080/"
        },
        "id": "IpEr5IVxVUyB",
        "outputId": "1db7ec34-bbf0-40b8-8962-019835e07759"
      },
      "execution_count": 66,
      "outputs": [
        {
          "output_type": "stream",
          "name": "stdout",
          "text": [
            "1 Cla_fp1_fp1                     Piloto    #      Chasis    Motor  \\\n",
            "0           6  A. Albon  Red Bull Racing   23    Red Bull    Honda   \n",
            "1         NaN  A. Giovinazzi  Alfa Romeo  NaN         NaN      NaN   \n",
            "2          12        C. Leclerc  Ferrari   16     Ferrari  Ferrari   \n",
            "3           7       C. Sainz  McLaren F1   55     McLaren  Renault   \n",
            "4          11     D. Kvyat  Racing Bulls   26  AlphaTauri    Honda   \n",
            "\n",
            "1 Vueltas_fp1_fp1   Tiempo_fp1_fp1 Intervalo_fp1_fp1 Cla_fp2_fp2  \\\n",
            "0              28  +0.616 1'05.483             0.087           7   \n",
            "1             NaN              NaN               NaN          14   \n",
            "2              28  +0.970 1'05.837             0.022           9   \n",
            "3              40  +0.735 1'05.602             0.119           5   \n",
            "4              28  +0.948 1'05.815             0.045          12   \n",
            "\n",
            "1 Vueltas_fp2_fp2  ... Cla_fp3_fp3 Vueltas_fp3_fp3   Tiempo_fp3_fp3  \\\n",
            "0              29  ...           7              29  +0.777 1'04.437   \n",
            "1              36  ...          14              36  +1.705 1'05.365   \n",
            "2              35  ...           9              35  +1.046 1'04.706   \n",
            "3              45  ...           5              45  +0.673 1'04.333   \n",
            "4              34  ...          12              34  +1.390 1'05.050   \n",
            "\n",
            "1 Intervalo_fp3_fp3 Cla_Grid_grid Tiempo_Grid_grid Cla_Race_race  \\\n",
            "0             0.089             6  +1.738 1'21.011             4   \n",
            "1             0.213            19  +2.558 1'21.831            14   \n",
            "2             0.165            14  +0.355 1'19.628           dnf   \n",
            "3             0.092             3  +1.398 1'20.671             9   \n",
            "4             0.293            13  +0.444 1'19.717            10   \n",
            "\n",
            "1 Vueltas_Race_race     Tiempo_Race_race Intervalo_Race_race  \n",
            "0                71  +44.400 1:23'35.083              10.702  \n",
            "1                70   +1 Lap 1:23'34.373               4.755  \n",
            "2                 4    +67 Laps 6'57.102             21 Laps  \n",
            "3                70   +1 Lap 1:23'09.726               1 Lap  \n",
            "4                70   +1 Lap 1:23'20.934              11.208  \n",
            "\n",
            "[5 rows x 22 columns]\n"
          ]
        }
      ]
    },
    {
      "cell_type": "markdown",
      "source": [
        "# Download data Frame"
      ],
      "metadata": {
        "id": "4Fn1G-2rWINV"
      }
    },
    {
      "cell_type": "code",
      "source": [
        "df_merged.to_csv(\"STY_GP_2020.csv\", index=False)"
      ],
      "metadata": {
        "id": "IY2SGR17WDs_"
      },
      "execution_count": 67,
      "outputs": []
    }
  ]
}